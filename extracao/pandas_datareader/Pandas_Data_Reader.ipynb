{
 "cells": [
  {
   "cell_type": "markdown",
   "metadata": {},
   "source": [
    "# Obtendo valores do Yahoo finance:"
   ]
  },
  {
   "cell_type": "markdown",
   "metadata": {},
   "source": [
    "## Bibliotecas necessárias:"
   ]
  },
  {
   "cell_type": "code",
   "execution_count": 1,
   "metadata": {},
   "outputs": [],
   "source": [
    "from datetime import date\n",
    "import pandas_datareader as web\n",
    "from pandas_datareader import wb"
   ]
  },
  {
   "cell_type": "markdown",
   "metadata": {},
   "source": [
    "## Intervalo dos dados a serem procurados:"
   ]
  },
  {
   "cell_type": "markdown",
   "metadata": {},
   "source": [
    "#### formato dia/mes/ano"
   ]
  },
  {
   "cell_type": "code",
   "execution_count": 2,
   "metadata": {},
   "outputs": [
    {
     "name": "stdout",
     "output_type": "stream",
     "text": [
      "2021-04-29\n"
     ]
    }
   ],
   "source": [
    "data_inicial = \"15/05/2018\"\n",
    "data_final = \"15/05/2020\" \n",
    "\n",
    "#também podemos usar dt.now() para obter a data no dia de hoje:\n",
    "hoje = date.today()\n",
    "print(hoje)"
   ]
  },
  {
   "cell_type": "markdown",
   "metadata": {},
   "source": [
    "## Ticker da ação:"
   ]
  },
  {
   "cell_type": "markdown",
   "metadata": {},
   "source": [
    "#### Para saber o ticker da ação podemos ir no site https://finance.yahoo.com/ . O código da Weg, por exemplo,  é WEGE3.SA."
   ]
  },
  {
   "cell_type": "code",
   "execution_count": 3,
   "metadata": {},
   "outputs": [],
   "source": [
    "ticker = \"WEGE3.SA\""
   ]
  },
  {
   "cell_type": "markdown",
   "metadata": {},
   "source": [
    "## Chamando a função que irá buscar os dados do yahoo finance:"
   ]
  },
  {
   "cell_type": "code",
   "execution_count": 4,
   "metadata": {
    "scrolled": true
   },
   "outputs": [
    {
     "name": "stdout",
     "output_type": "stream",
     "text": [
      "                 High        Low       Open      Close      Volume  Adj Close\n",
      "Date                                                                         \n",
      "2018-05-15   9.400000   8.850000   8.850000   9.300000   7290400.0   8.932190\n",
      "2018-05-16   9.590000   9.180000   9.205000   9.540000   3832400.0   9.162696\n",
      "2018-05-17   9.530000   9.220000   9.525000   9.345000   6030800.0   8.975411\n",
      "2018-05-18   9.340000   9.045000   9.210000   9.150000   7126000.0   8.788122\n",
      "2018-05-21   9.360000   8.950000   9.205000   8.965000   6023000.0   8.610440\n",
      "...               ...        ...        ...        ...         ...        ...\n",
      "2020-05-11  19.620001  19.075001  19.155001  19.415001   9810000.0  19.247561\n",
      "2020-05-12  19.690001  18.575001  19.495001  18.750000   8326800.0  18.588291\n",
      "2020-05-13  19.280001  18.719999  18.955000  19.000000  10642200.0  18.836136\n",
      "2020-05-14  19.030001  18.160000  18.900000  18.674999  12531600.0  18.513939\n",
      "2020-05-15  18.705000  18.000000  18.540001  18.205000  11708800.0  18.047993\n",
      "\n",
      "[493 rows x 6 columns]\n"
     ]
    }
   ],
   "source": [
    "acaoWeg = web.DataReader(ticker, \"yahoo\", data_inicial, data_final)\n",
    "print(acaoWeg)"
   ]
  },
  {
   "cell_type": "markdown",
   "metadata": {},
   "source": [
    "### Se não especificarmos o tempo ele vai supor o maior tempo possível. Nesse exemplo, ao não falar a data final ele vai dar os dados até o último dia disponível:"
   ]
  },
  {
   "cell_type": "code",
   "execution_count": 5,
   "metadata": {},
   "outputs": [
    {
     "name": "stdout",
     "output_type": "stream",
     "text": [
      "                 High        Low       Open      Close      Volume  Adj Close\n",
      "Date                                                                         \n",
      "2018-05-15   9.400000   8.850000   8.850000   9.300000   7290400.0   8.932190\n",
      "2018-05-16   9.590000   9.180000   9.205000   9.540000   3832400.0   9.162696\n",
      "2018-05-17   9.530000   9.220000   9.525000   9.345000   6030800.0   8.975411\n",
      "2018-05-18   9.340000   9.045000   9.210000   9.150000   7126000.0   8.788122\n",
      "2018-05-21   9.360000   8.950000   9.205000   8.965000   6023000.0   8.610440\n",
      "...               ...        ...        ...        ...         ...        ...\n",
      "2021-04-23  37.700001  36.660000  36.775002  37.605000   8342800.0  37.605000\n",
      "2021-04-26  37.980000  37.020000  37.695000  37.314999   6897800.0  37.314999\n",
      "2021-04-27  37.435001  36.669998  37.244999  37.009998   6958400.0  37.009998\n",
      "2021-04-28  38.900002  36.240002  38.099998  36.509998  14494500.0  36.509998\n",
      "2021-04-29  36.799999  35.230000  36.560001  35.490002  12078300.0  35.490002\n",
      "\n",
      "[727 rows x 6 columns]\n"
     ]
    }
   ],
   "source": [
    "acaoWeg = web.DataReader(ticker, \"yahoo\", data_inicial)\n",
    "print(acaoWeg)"
   ]
  },
  {
   "cell_type": "markdown",
   "metadata": {},
   "source": [
    "### Nesse exemplo, ao não falar a data inicial ele vai dar os dados desde o IPO da ação:"
   ]
  },
  {
   "cell_type": "code",
   "execution_count": 6,
   "metadata": {},
   "outputs": [
    {
     "name": "stdout",
     "output_type": "stream",
     "text": [
      "                 High        Low       Open      Close      Volume  Adj Close\n",
      "Date                                                                         \n",
      "2016-05-02   5.915384   5.776923   5.815384   5.873076   4252040.0   5.415514\n",
      "2016-05-03   5.907692   5.776923   5.811538   5.850000   4073940.0   5.394237\n",
      "2016-05-04   5.880769   5.707692   5.861538   5.780769   3450460.0   5.330400\n",
      "2016-05-05   5.865384   5.703846   5.842307   5.811538   3981120.0   5.358771\n",
      "2016-05-06   5.838461   5.723076   5.823076   5.761538   3226080.0   5.312667\n",
      "...               ...        ...        ...        ...         ...        ...\n",
      "2020-05-11  19.620001  19.075001  19.155001  19.415001   9810000.0  19.247561\n",
      "2020-05-12  19.690001  18.575001  19.495001  18.750000   8326800.0  18.588291\n",
      "2020-05-13  19.280001  18.719999  18.955000  19.000000  10642200.0  18.836136\n",
      "2020-05-14  19.030001  18.160000  18.900000  18.674999  12531600.0  18.513939\n",
      "2020-05-15  18.705000  18.000000  18.540001  18.205000  11708800.0  18.047993\n",
      "\n",
      "[1006 rows x 6 columns]\n"
     ]
    }
   ],
   "source": [
    "acaoWeg = web.DataReader(ticker, \"yahoo\", \"\", data_final)\n",
    "print(acaoWeg)"
   ]
  },
  {
   "cell_type": "markdown",
   "metadata": {},
   "source": [
    "### Ao não especificar nenhuma data, ele vai buscar todos os dias em que se tem dados sobre a ação:"
   ]
  },
  {
   "cell_type": "code",
   "execution_count": 7,
   "metadata": {},
   "outputs": [
    {
     "name": "stdout",
     "output_type": "stream",
     "text": [
      "                 High        Low       Open      Close      Volume  Adj Close\n",
      "Date                                                                         \n",
      "2016-05-02   5.915384   5.776923   5.815384   5.873076   4252040.0   5.415514\n",
      "2016-05-03   5.907692   5.776923   5.811538   5.850000   4073940.0   5.394237\n",
      "2016-05-04   5.880769   5.707692   5.861538   5.780769   3450460.0   5.330400\n",
      "2016-05-05   5.865384   5.703846   5.842307   5.811538   3981120.0   5.358771\n",
      "2016-05-06   5.838461   5.723076   5.823076   5.761538   3226080.0   5.312667\n",
      "...               ...        ...        ...        ...         ...        ...\n",
      "2021-04-23  37.700001  36.660000  36.775002  37.605000   8342800.0  37.605000\n",
      "2021-04-26  37.980000  37.020000  37.695000  37.314999   6897800.0  37.314999\n",
      "2021-04-27  37.435001  36.669998  37.244999  37.009998   6958400.0  37.009998\n",
      "2021-04-28  38.900002  36.240002  38.099998  36.509998  14494500.0  36.509998\n",
      "2021-04-29  36.799999  35.230000  36.560001  35.490002  12078300.0  35.490002\n",
      "\n",
      "[1240 rows x 6 columns]\n"
     ]
    }
   ],
   "source": [
    "acaoWeg = web.DataReader(ticker, \"yahoo\")\n",
    "print(acaoWeg)"
   ]
  },
  {
   "cell_type": "markdown",
   "metadata": {},
   "source": [
    "### Podemos buscar dados específicos como todas as datas de fechamento ou um único valor específico. "
   ]
  },
  {
   "cell_type": "code",
   "execution_count": 8,
   "metadata": {
    "scrolled": true
   },
   "outputs": [
    {
     "name": "stdout",
     "output_type": "stream",
     "text": [
      "Date\n",
      "2016-05-02     5.915384\n",
      "2016-05-03     5.907692\n",
      "2016-05-04     5.880769\n",
      "2016-05-05     5.865384\n",
      "2016-05-06     5.838461\n",
      "                ...    \n",
      "2021-04-23    37.700001\n",
      "2021-04-26    37.980000\n",
      "2021-04-27    37.435001\n",
      "2021-04-28    38.900002\n",
      "2021-04-29    36.799999\n",
      "Name: High, Length: 1240, dtype: float64\n"
     ]
    }
   ],
   "source": [
    "print(acaoWeg[\"High\"])"
   ]
  },
  {
   "cell_type": "markdown",
   "metadata": {},
   "source": [
    "### Podemos pegar o valor anterior e o atribuir a uma variável e manipular essa variável como se fosse um vetor qualquer, querendo saber sua segunda posição por exemplo:"
   ]
  },
  {
   "cell_type": "code",
   "execution_count": 9,
   "metadata": {},
   "outputs": [
    {
     "name": "stdout",
     "output_type": "stream",
     "text": [
      "5.880768775939941\n"
     ]
    }
   ],
   "source": [
    "altaWeg = acaoWeg[\"High\"]\n",
    "print (altaWeg[2])"
   ]
  },
  {
   "cell_type": "markdown",
   "metadata": {},
   "source": [
    "# Obtendo indicadores do Banco Mundial:"
   ]
  },
  {
   "cell_type": "markdown",
   "metadata": {},
   "source": [
    "### 1- Para obter os indicadores macroeconômicos do banco mundial precisamos de um ticker. \n",
    "### 2- Conseguimos obter o ticker pesquisando no site do banco mundial um indicador como o pib do Brasil por exemplo: https://data.worldbank.org/indicator/NY.GDP.MKTP.CD?locations=BR&view=chart \n",
    "### 3- O ticker vem depois de indicator/ na url, nesse caso o indicador do pib de um país será NY.GDP.MKTP.CD\n",
    "### 4- O país escolhido aparece depois de locations= , no caso o nosso símbolo para o Brasil será BR\n",
    "### 5- Depois disso precisamos chamar a função, descrever os indicadores, informar o país ou países, o ano inicial e o ano final de busca dos dados:"
   ]
  },
  {
   "cell_type": "code",
   "execution_count": 10,
   "metadata": {},
   "outputs": [
    {
     "data": {
      "text/html": [
       "<div>\n",
       "<style scoped>\n",
       "    .dataframe tbody tr th:only-of-type {\n",
       "        vertical-align: middle;\n",
       "    }\n",
       "\n",
       "    .dataframe tbody tr th {\n",
       "        vertical-align: top;\n",
       "    }\n",
       "\n",
       "    .dataframe thead th {\n",
       "        text-align: right;\n",
       "    }\n",
       "</style>\n",
       "<table border=\"1\" class=\"dataframe\">\n",
       "  <thead>\n",
       "    <tr style=\"text-align: right;\">\n",
       "      <th></th>\n",
       "      <th></th>\n",
       "      <th>NY.GDP.MKTP.CD</th>\n",
       "    </tr>\n",
       "    <tr>\n",
       "      <th>country</th>\n",
       "      <th>year</th>\n",
       "      <th></th>\n",
       "    </tr>\n",
       "  </thead>\n",
       "  <tbody>\n",
       "    <tr>\n",
       "      <td rowspan=\"11\" valign=\"top\">Brazil</td>\n",
       "      <td>2020</td>\n",
       "      <td>NaN</td>\n",
       "    </tr>\n",
       "    <tr>\n",
       "      <td>2019</td>\n",
       "      <td>1.839758e+12</td>\n",
       "    </tr>\n",
       "    <tr>\n",
       "      <td>2018</td>\n",
       "      <td>1.885483e+12</td>\n",
       "    </tr>\n",
       "    <tr>\n",
       "      <td>2017</td>\n",
       "      <td>2.062831e+12</td>\n",
       "    </tr>\n",
       "    <tr>\n",
       "      <td>2016</td>\n",
       "      <td>1.795700e+12</td>\n",
       "    </tr>\n",
       "    <tr>\n",
       "      <td>2015</td>\n",
       "      <td>1.802214e+12</td>\n",
       "    </tr>\n",
       "    <tr>\n",
       "      <td>2014</td>\n",
       "      <td>2.455994e+12</td>\n",
       "    </tr>\n",
       "    <tr>\n",
       "      <td>2013</td>\n",
       "      <td>2.472807e+12</td>\n",
       "    </tr>\n",
       "    <tr>\n",
       "      <td>2012</td>\n",
       "      <td>2.465189e+12</td>\n",
       "    </tr>\n",
       "    <tr>\n",
       "      <td>2011</td>\n",
       "      <td>2.616201e+12</td>\n",
       "    </tr>\n",
       "    <tr>\n",
       "      <td>2010</td>\n",
       "      <td>2.208872e+12</td>\n",
       "    </tr>\n",
       "  </tbody>\n",
       "</table>\n",
       "</div>"
      ],
      "text/plain": [
       "              NY.GDP.MKTP.CD\n",
       "country year                \n",
       "Brazil  2020             NaN\n",
       "        2019    1.839758e+12\n",
       "        2018    1.885483e+12\n",
       "        2017    2.062831e+12\n",
       "        2016    1.795700e+12\n",
       "        2015    1.802214e+12\n",
       "        2014    2.455994e+12\n",
       "        2013    2.472807e+12\n",
       "        2012    2.465189e+12\n",
       "        2011    2.616201e+12\n",
       "        2010    2.208872e+12"
      ]
     },
     "execution_count": 10,
     "metadata": {},
     "output_type": "execute_result"
    }
   ],
   "source": [
    "pib = web.wb.download(indicator='NY.GDP.MKTP.CD', country=['BR'], start='2010', end='2020')\n",
    "pib"
   ]
  },
  {
   "cell_type": "markdown",
   "metadata": {},
   "source": [
    "### No exemplo abaixo vamos buscar a inflação dos BRICS (Brasil, Rússia, Índia, China e África do Sul):\n",
    "### Ao buscar isso no site temos a seguinte url: https://data.worldbank.org/indicator/FP.CPI.TOTL.ZG?locations=BR-IN-RU-CN-ZA&view=chart\n",
    "### indicador = 'FP.CPI.TOTL.ZG'\n",
    "### ticker dos países = BR-IN-RU-CN-ZA ------> ticker = ['BR', 'IN', 'RU', 'CN', 'ZA']"
   ]
  },
  {
   "cell_type": "code",
   "execution_count": 11,
   "metadata": {},
   "outputs": [
    {
     "data": {
      "text/html": [
       "<div>\n",
       "<style scoped>\n",
       "    .dataframe tbody tr th:only-of-type {\n",
       "        vertical-align: middle;\n",
       "    }\n",
       "\n",
       "    .dataframe tbody tr th {\n",
       "        vertical-align: top;\n",
       "    }\n",
       "\n",
       "    .dataframe thead th {\n",
       "        text-align: right;\n",
       "    }\n",
       "</style>\n",
       "<table border=\"1\" class=\"dataframe\">\n",
       "  <thead>\n",
       "    <tr style=\"text-align: right;\">\n",
       "      <th></th>\n",
       "      <th></th>\n",
       "      <th>FP.CPI.TOTL.ZG</th>\n",
       "    </tr>\n",
       "    <tr>\n",
       "      <th>country</th>\n",
       "      <th>year</th>\n",
       "      <th></th>\n",
       "    </tr>\n",
       "  </thead>\n",
       "  <tbody>\n",
       "    <tr>\n",
       "      <td rowspan=\"10\" valign=\"top\">Brazil</td>\n",
       "      <td>2019</td>\n",
       "      <td>3.732976</td>\n",
       "    </tr>\n",
       "    <tr>\n",
       "      <td>2018</td>\n",
       "      <td>3.664850</td>\n",
       "    </tr>\n",
       "    <tr>\n",
       "      <td>2017</td>\n",
       "      <td>3.446373</td>\n",
       "    </tr>\n",
       "    <tr>\n",
       "      <td>2016</td>\n",
       "      <td>8.739144</td>\n",
       "    </tr>\n",
       "    <tr>\n",
       "      <td>2015</td>\n",
       "      <td>9.029901</td>\n",
       "    </tr>\n",
       "    <tr>\n",
       "      <td>2014</td>\n",
       "      <td>6.329040</td>\n",
       "    </tr>\n",
       "    <tr>\n",
       "      <td>2013</td>\n",
       "      <td>6.204311</td>\n",
       "    </tr>\n",
       "    <tr>\n",
       "      <td>2012</td>\n",
       "      <td>5.403499</td>\n",
       "    </tr>\n",
       "    <tr>\n",
       "      <td>2011</td>\n",
       "      <td>6.636450</td>\n",
       "    </tr>\n",
       "    <tr>\n",
       "      <td>2010</td>\n",
       "      <td>5.038727</td>\n",
       "    </tr>\n",
       "    <tr>\n",
       "      <td rowspan=\"10\" valign=\"top\">China</td>\n",
       "      <td>2019</td>\n",
       "      <td>2.899236</td>\n",
       "    </tr>\n",
       "    <tr>\n",
       "      <td>2018</td>\n",
       "      <td>2.074789</td>\n",
       "    </tr>\n",
       "    <tr>\n",
       "      <td>2017</td>\n",
       "      <td>1.593137</td>\n",
       "    </tr>\n",
       "    <tr>\n",
       "      <td>2016</td>\n",
       "      <td>2.000000</td>\n",
       "    </tr>\n",
       "    <tr>\n",
       "      <td>2015</td>\n",
       "      <td>1.437025</td>\n",
       "    </tr>\n",
       "    <tr>\n",
       "      <td>2014</td>\n",
       "      <td>1.921643</td>\n",
       "    </tr>\n",
       "    <tr>\n",
       "      <td>2013</td>\n",
       "      <td>2.621049</td>\n",
       "    </tr>\n",
       "    <tr>\n",
       "      <td>2012</td>\n",
       "      <td>2.619526</td>\n",
       "    </tr>\n",
       "    <tr>\n",
       "      <td>2011</td>\n",
       "      <td>5.553897</td>\n",
       "    </tr>\n",
       "    <tr>\n",
       "      <td>2010</td>\n",
       "      <td>3.175328</td>\n",
       "    </tr>\n",
       "    <tr>\n",
       "      <td rowspan=\"10\" valign=\"top\">India</td>\n",
       "      <td>2019</td>\n",
       "      <td>7.659695</td>\n",
       "    </tr>\n",
       "    <tr>\n",
       "      <td>2018</td>\n",
       "      <td>4.860699</td>\n",
       "    </tr>\n",
       "    <tr>\n",
       "      <td>2017</td>\n",
       "      <td>2.490887</td>\n",
       "    </tr>\n",
       "    <tr>\n",
       "      <td>2016</td>\n",
       "      <td>4.941026</td>\n",
       "    </tr>\n",
       "    <tr>\n",
       "      <td>2015</td>\n",
       "      <td>5.872427</td>\n",
       "    </tr>\n",
       "    <tr>\n",
       "      <td>2014</td>\n",
       "      <td>6.353195</td>\n",
       "    </tr>\n",
       "    <tr>\n",
       "      <td>2013</td>\n",
       "      <td>10.907643</td>\n",
       "    </tr>\n",
       "    <tr>\n",
       "      <td>2012</td>\n",
       "      <td>9.312446</td>\n",
       "    </tr>\n",
       "    <tr>\n",
       "      <td>2011</td>\n",
       "      <td>8.858361</td>\n",
       "    </tr>\n",
       "    <tr>\n",
       "      <td>2010</td>\n",
       "      <td>11.989390</td>\n",
       "    </tr>\n",
       "    <tr>\n",
       "      <td rowspan=\"10\" valign=\"top\">Russian Federation</td>\n",
       "      <td>2019</td>\n",
       "      <td>4.470367</td>\n",
       "    </tr>\n",
       "    <tr>\n",
       "      <td>2018</td>\n",
       "      <td>2.878297</td>\n",
       "    </tr>\n",
       "    <tr>\n",
       "      <td>2017</td>\n",
       "      <td>3.683329</td>\n",
       "    </tr>\n",
       "    <tr>\n",
       "      <td>2016</td>\n",
       "      <td>7.042448</td>\n",
       "    </tr>\n",
       "    <tr>\n",
       "      <td>2015</td>\n",
       "      <td>15.534405</td>\n",
       "    </tr>\n",
       "    <tr>\n",
       "      <td>2014</td>\n",
       "      <td>7.823412</td>\n",
       "    </tr>\n",
       "    <tr>\n",
       "      <td>2013</td>\n",
       "      <td>6.753710</td>\n",
       "    </tr>\n",
       "    <tr>\n",
       "      <td>2012</td>\n",
       "      <td>5.074743</td>\n",
       "    </tr>\n",
       "    <tr>\n",
       "      <td>2011</td>\n",
       "      <td>8.440465</td>\n",
       "    </tr>\n",
       "    <tr>\n",
       "      <td>2010</td>\n",
       "      <td>6.849392</td>\n",
       "    </tr>\n",
       "    <tr>\n",
       "      <td rowspan=\"10\" valign=\"top\">South Africa</td>\n",
       "      <td>2019</td>\n",
       "      <td>4.124351</td>\n",
       "    </tr>\n",
       "    <tr>\n",
       "      <td>2018</td>\n",
       "      <td>4.504577</td>\n",
       "    </tr>\n",
       "    <tr>\n",
       "      <td>2017</td>\n",
       "      <td>5.181082</td>\n",
       "    </tr>\n",
       "    <tr>\n",
       "      <td>2016</td>\n",
       "      <td>6.594604</td>\n",
       "    </tr>\n",
       "    <tr>\n",
       "      <td>2015</td>\n",
       "      <td>4.509208</td>\n",
       "    </tr>\n",
       "    <tr>\n",
       "      <td>2014</td>\n",
       "      <td>6.136020</td>\n",
       "    </tr>\n",
       "    <tr>\n",
       "      <td>2013</td>\n",
       "      <td>5.776404</td>\n",
       "    </tr>\n",
       "    <tr>\n",
       "      <td>2012</td>\n",
       "      <td>5.723944</td>\n",
       "    </tr>\n",
       "    <tr>\n",
       "      <td>2011</td>\n",
       "      <td>5.017158</td>\n",
       "    </tr>\n",
       "    <tr>\n",
       "      <td>2010</td>\n",
       "      <td>4.063539</td>\n",
       "    </tr>\n",
       "  </tbody>\n",
       "</table>\n",
       "</div>"
      ],
      "text/plain": [
       "                         FP.CPI.TOTL.ZG\n",
       "country            year                \n",
       "Brazil             2019        3.732976\n",
       "                   2018        3.664850\n",
       "                   2017        3.446373\n",
       "                   2016        8.739144\n",
       "                   2015        9.029901\n",
       "                   2014        6.329040\n",
       "                   2013        6.204311\n",
       "                   2012        5.403499\n",
       "                   2011        6.636450\n",
       "                   2010        5.038727\n",
       "China              2019        2.899236\n",
       "                   2018        2.074789\n",
       "                   2017        1.593137\n",
       "                   2016        2.000000\n",
       "                   2015        1.437025\n",
       "                   2014        1.921643\n",
       "                   2013        2.621049\n",
       "                   2012        2.619526\n",
       "                   2011        5.553897\n",
       "                   2010        3.175328\n",
       "India              2019        7.659695\n",
       "                   2018        4.860699\n",
       "                   2017        2.490887\n",
       "                   2016        4.941026\n",
       "                   2015        5.872427\n",
       "                   2014        6.353195\n",
       "                   2013       10.907643\n",
       "                   2012        9.312446\n",
       "                   2011        8.858361\n",
       "                   2010       11.989390\n",
       "Russian Federation 2019        4.470367\n",
       "                   2018        2.878297\n",
       "                   2017        3.683329\n",
       "                   2016        7.042448\n",
       "                   2015       15.534405\n",
       "                   2014        7.823412\n",
       "                   2013        6.753710\n",
       "                   2012        5.074743\n",
       "                   2011        8.440465\n",
       "                   2010        6.849392\n",
       "South Africa       2019        4.124351\n",
       "                   2018        4.504577\n",
       "                   2017        5.181082\n",
       "                   2016        6.594604\n",
       "                   2015        4.509208\n",
       "                   2014        6.136020\n",
       "                   2013        5.776404\n",
       "                   2012        5.723944\n",
       "                   2011        5.017158\n",
       "                   2010        4.063539"
      ]
     },
     "execution_count": 11,
     "metadata": {},
     "output_type": "execute_result"
    }
   ],
   "source": [
    "inflacao = web.wb.download(indicator='FP.CPI.TOTL.ZG', country=['BR', 'IN', 'RU', 'CN', 'ZA'], start='2010', end='2019')\n",
    "inflacao"
   ]
  },
  {
   "cell_type": "markdown",
   "metadata": {},
   "source": [
    "### Pegando o dado de vários países:"
   ]
  },
  {
   "cell_type": "code",
   "execution_count": 12,
   "metadata": {},
   "outputs": [],
   "source": [
    "#indicadores do pib, inflação e participação da industria no pib\n",
    "indicadores=['NY.GDP.MKTP.CD', 'FP.CPI.TOTL.ZG', 'NV.IND.TOTL.ZS']\n",
    "#países observados: Brasil, Estados Unidos, India e Rússia\n",
    "paises=['BR', 'US', 'IN', 'RU']"
   ]
  },
  {
   "cell_type": "code",
   "execution_count": 13,
   "metadata": {},
   "outputs": [
    {
     "data": {
      "text/html": [
       "<div>\n",
       "<style scoped>\n",
       "    .dataframe tbody tr th:only-of-type {\n",
       "        vertical-align: middle;\n",
       "    }\n",
       "\n",
       "    .dataframe tbody tr th {\n",
       "        vertical-align: top;\n",
       "    }\n",
       "\n",
       "    .dataframe thead th {\n",
       "        text-align: right;\n",
       "    }\n",
       "</style>\n",
       "<table border=\"1\" class=\"dataframe\">\n",
       "  <thead>\n",
       "    <tr style=\"text-align: right;\">\n",
       "      <th></th>\n",
       "      <th></th>\n",
       "      <th>PIB</th>\n",
       "      <th>INFLAÇÃO</th>\n",
       "      <th>INDUSTRIA/PIB</th>\n",
       "    </tr>\n",
       "    <tr>\n",
       "      <th>country</th>\n",
       "      <th>year</th>\n",
       "      <th></th>\n",
       "      <th></th>\n",
       "      <th></th>\n",
       "    </tr>\n",
       "  </thead>\n",
       "  <tbody>\n",
       "    <tr>\n",
       "      <td>Brazil</td>\n",
       "      <td>2010</td>\n",
       "      <td>2.208872e+12</td>\n",
       "      <td>5.038727</td>\n",
       "      <td>23.267952</td>\n",
       "    </tr>\n",
       "    <tr>\n",
       "      <td>India</td>\n",
       "      <td>2010</td>\n",
       "      <td>1.675615e+12</td>\n",
       "      <td>11.989390</td>\n",
       "      <td>30.725078</td>\n",
       "    </tr>\n",
       "    <tr>\n",
       "      <td>Russian Federation</td>\n",
       "      <td>2010</td>\n",
       "      <td>1.524917e+12</td>\n",
       "      <td>6.849392</td>\n",
       "      <td>29.999588</td>\n",
       "    </tr>\n",
       "    <tr>\n",
       "      <td>United States</td>\n",
       "      <td>2010</td>\n",
       "      <td>1.499205e+13</td>\n",
       "      <td>1.640043</td>\n",
       "      <td>19.355292</td>\n",
       "    </tr>\n",
       "  </tbody>\n",
       "</table>\n",
       "</div>"
      ],
      "text/plain": [
       "                                  PIB   INFLAÇÃO  INDUSTRIA/PIB\n",
       "country            year                                        \n",
       "Brazil             2010  2.208872e+12   5.038727      23.267952\n",
       "India              2010  1.675615e+12  11.989390      30.725078\n",
       "Russian Federation 2010  1.524917e+12   6.849392      29.999588\n",
       "United States      2010  1.499205e+13   1.640043      19.355292"
      ]
     },
     "execution_count": 13,
     "metadata": {},
     "output_type": "execute_result"
    }
   ],
   "source": [
    "pib = web.wb.download(indicator=indicadores, country=paises, start='2010', end='2010')\n",
    "pib.columns=['PIB', 'INFLAÇÃO', 'INDUSTRIA/PIB']\n",
    "pib"
   ]
  },
  {
   "cell_type": "markdown",
   "metadata": {},
   "source": [
    "### Para ver mais indicadores vá em: https://data.worldbank.org/indicator\n",
    "### Para ver mais países vá em: https://data.worldbank.org/country\n",
    "### comando para ver a lista de todos os países:  pandas_datareader.wb.country_codes"
   ]
  },
  {
   "cell_type": "code",
   "execution_count": null,
   "metadata": {},
   "outputs": [],
   "source": []
  }
 ],
 "metadata": {
  "kernelspec": {
   "display_name": "Python 3",
   "language": "python",
   "name": "python3"
  },
  "language_info": {
   "codemirror_mode": {
    "name": "ipython",
    "version": 3
   },
   "file_extension": ".py",
   "mimetype": "text/x-python",
   "name": "python",
   "nbconvert_exporter": "python",
   "pygments_lexer": "ipython3",
   "version": "3.7.4"
  }
 },
 "nbformat": 4,
 "nbformat_minor": 2
}
