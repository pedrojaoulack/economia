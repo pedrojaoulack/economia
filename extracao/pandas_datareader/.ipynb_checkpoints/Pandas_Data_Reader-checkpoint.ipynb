{
 "cells": [
  {
   "cell_type": "markdown",
   "metadata": {},
   "source": [
    "# Obtendo valores do Yahoo finance:"
   ]
  },
  {
   "cell_type": "markdown",
   "metadata": {},
   "source": [
    "## Bibliotecas necessárias:"
   ]
  },
  {
   "cell_type": "code",
   "execution_count": 13,
   "metadata": {},
   "outputs": [],
   "source": [
    "from datetime import date\n",
    "import pandas_datareader as web\n",
    "from pandas_datareader import wb"
   ]
  },
  {
   "cell_type": "markdown",
   "metadata": {},
   "source": [
    "## Intervalo dos dados a serem procurados:"
   ]
  },
  {
   "cell_type": "markdown",
   "metadata": {},
   "source": [
    "#### formato dia/mes/ano"
   ]
  },
  {
   "cell_type": "code",
   "execution_count": 2,
   "metadata": {},
   "outputs": [
    {
     "name": "stdout",
     "output_type": "stream",
     "text": [
      "2021-04-29\n"
     ]
    }
   ],
   "source": [
    "data_inicial = \"15/05/2018\"\n",
    "data_final = \"15/05/2020\" \n",
    "\n",
    "#também podemos usar dt.now() para obter a data no dia de hoje:\n",
    "hoje = date.today()\n",
    "print(hoje)"
   ]
  },
  {
   "cell_type": "markdown",
   "metadata": {},
   "source": [
    "## Ticker da ação:"
   ]
  },
  {
   "cell_type": "markdown",
   "metadata": {},
   "source": [
    "#### Para saber o ticker da ação podemos ir no site https://finance.yahoo.com/ . O código da Weg, por exemplo,  é WEGE3.SA."
   ]
  },
  {
   "cell_type": "code",
   "execution_count": 3,
   "metadata": {},
   "outputs": [],
   "source": [
    "ticker = \"WEGE3.SA\""
   ]
  },
  {
   "cell_type": "markdown",
   "metadata": {},
   "source": [
    "## Chamando a função que irá buscar os dados do yahoo finance:"
   ]
  },
  {
   "cell_type": "code",
   "execution_count": 4,
   "metadata": {
    "scrolled": true
   },
   "outputs": [
    {
     "name": "stdout",
     "output_type": "stream",
     "text": [
      "                 High        Low       Open      Close      Volume  Adj Close\n",
      "Date                                                                         \n",
      "2018-05-15   9.400000   8.850000   8.850000   9.300000   7290400.0   8.932190\n",
      "2018-05-16   9.590000   9.180000   9.205000   9.540000   3832400.0   9.162696\n",
      "2018-05-17   9.530000   9.220000   9.525000   9.345000   6030800.0   8.975411\n",
      "2018-05-18   9.340000   9.045000   9.210000   9.150000   7126000.0   8.788122\n",
      "2018-05-21   9.360000   8.950000   9.205000   8.965000   6023000.0   8.610440\n",
      "...               ...        ...        ...        ...         ...        ...\n",
      "2020-05-11  19.620001  19.075001  19.155001  19.415001   9810000.0  19.247561\n",
      "2020-05-12  19.690001  18.575001  19.495001  18.750000   8326800.0  18.588291\n",
      "2020-05-13  19.280001  18.719999  18.955000  19.000000  10642200.0  18.836136\n",
      "2020-05-14  19.030001  18.160000  18.900000  18.674999  12531600.0  18.513939\n",
      "2020-05-15  18.705000  18.000000  18.540001  18.205000  11708800.0  18.047993\n",
      "\n",
      "[493 rows x 6 columns]\n"
     ]
    }
   ],
   "source": [
    "acaoWeg = web.DataReader(ticker, \"yahoo\", data_inicial, data_final)\n",
    "print(acaoWeg)"
   ]
  },
  {
   "cell_type": "markdown",
   "metadata": {},
   "source": [
    "### Se não especificarmos o tempo ele vai supor o maior tempo possível. Nesse exemplo, ao não falar a data final ele vai dar os dados até o último dia disponível:"
   ]
  },
  {
   "cell_type": "code",
   "execution_count": 5,
   "metadata": {},
   "outputs": [
    {
     "name": "stdout",
     "output_type": "stream",
     "text": [
      "                 High        Low       Open      Close      Volume  Adj Close\n",
      "Date                                                                         \n",
      "2018-05-15   9.400000   8.850000   8.850000   9.300000   7290400.0   8.932190\n",
      "2018-05-16   9.590000   9.180000   9.205000   9.540000   3832400.0   9.162696\n",
      "2018-05-17   9.530000   9.220000   9.525000   9.345000   6030800.0   8.975411\n",
      "2018-05-18   9.340000   9.045000   9.210000   9.150000   7126000.0   8.788122\n",
      "2018-05-21   9.360000   8.950000   9.205000   8.965000   6023000.0   8.610440\n",
      "...               ...        ...        ...        ...         ...        ...\n",
      "2021-04-22  37.750000  36.439999  37.250000  36.439999  11556400.0  36.439999\n",
      "2021-04-23  37.700001  36.660000  36.775002  37.605000   8342800.0  37.605000\n",
      "2021-04-26  37.980000  37.020000  37.695000  37.314999   6897800.0  37.314999\n",
      "2021-04-27  37.435001  36.669998  37.244999  37.009998   6958400.0  37.009998\n",
      "2021-04-28  38.900002  36.240002  38.099998  36.509998  14494500.0  36.509998\n",
      "\n",
      "[726 rows x 6 columns]\n"
     ]
    }
   ],
   "source": [
    "acaoWeg = web.DataReader(ticker, \"yahoo\", data_inicial)\n",
    "print(acaoWeg)"
   ]
  },
  {
   "cell_type": "markdown",
   "metadata": {},
   "source": [
    "### Nesse exemplo, ao não falar a data inicial ele vai dar os dados desde o IPO da ação:"
   ]
  },
  {
   "cell_type": "code",
   "execution_count": 6,
   "metadata": {},
   "outputs": [
    {
     "name": "stdout",
     "output_type": "stream",
     "text": [
      "                 High        Low       Open      Close      Volume  Adj Close\n",
      "Date                                                                         \n",
      "2016-05-02   5.915384   5.776923   5.815384   5.873076   4252040.0   5.415514\n",
      "2016-05-03   5.907692   5.776923   5.811538   5.850000   4073940.0   5.394237\n",
      "2016-05-04   5.880769   5.707692   5.861538   5.780769   3450460.0   5.330400\n",
      "2016-05-05   5.865384   5.703846   5.842307   5.811538   3981120.0   5.358771\n",
      "2016-05-06   5.838461   5.723076   5.823076   5.761538   3226080.0   5.312667\n",
      "...               ...        ...        ...        ...         ...        ...\n",
      "2020-05-11  19.620001  19.075001  19.155001  19.415001   9810000.0  19.247561\n",
      "2020-05-12  19.690001  18.575001  19.495001  18.750000   8326800.0  18.588291\n",
      "2020-05-13  19.280001  18.719999  18.955000  19.000000  10642200.0  18.836136\n",
      "2020-05-14  19.030001  18.160000  18.900000  18.674999  12531600.0  18.513939\n",
      "2020-05-15  18.705000  18.000000  18.540001  18.205000  11708800.0  18.047993\n",
      "\n",
      "[1006 rows x 6 columns]\n"
     ]
    }
   ],
   "source": [
    "acaoWeg = web.DataReader(ticker, \"yahoo\", \"\", data_final)\n",
    "print(acaoWeg)"
   ]
  },
  {
   "cell_type": "markdown",
   "metadata": {},
   "source": [
    "### Ao não especificar nenhuma data, ele vai buscar todos os dias em que se tem dados sobre a ação:"
   ]
  },
  {
   "cell_type": "code",
   "execution_count": 7,
   "metadata": {},
   "outputs": [
    {
     "name": "stdout",
     "output_type": "stream",
     "text": [
      "                 High        Low       Open      Close      Volume  Adj Close\n",
      "Date                                                                         \n",
      "2016-05-02   5.915384   5.776923   5.815384   5.873076   4252040.0   5.415514\n",
      "2016-05-03   5.907692   5.776923   5.811538   5.850000   4073940.0   5.394237\n",
      "2016-05-04   5.880769   5.707692   5.861538   5.780769   3450460.0   5.330400\n",
      "2016-05-05   5.865384   5.703846   5.842307   5.811538   3981120.0   5.358771\n",
      "2016-05-06   5.838461   5.723076   5.823076   5.761538   3226080.0   5.312667\n",
      "...               ...        ...        ...        ...         ...        ...\n",
      "2021-04-22  37.750000  36.439999  37.250000  36.439999  11556400.0  36.439999\n",
      "2021-04-23  37.700001  36.660000  36.775002  37.605000   8342800.0  37.605000\n",
      "2021-04-26  37.980000  37.020000  37.695000  37.314999   6897800.0  37.314999\n",
      "2021-04-27  37.435001  36.669998  37.244999  37.009998   6958400.0  37.009998\n",
      "2021-04-28  38.900002  36.240002  38.099998  36.509998  14494500.0  36.509998\n",
      "\n",
      "[1239 rows x 6 columns]\n"
     ]
    }
   ],
   "source": [
    "acaoWeg = web.DataReader(ticker, \"yahoo\")\n",
    "print(acaoWeg)"
   ]
  },
  {
   "cell_type": "markdown",
   "metadata": {},
   "source": [
    "### Podemos buscar dados específicos como todas as datas de fechamento ou um único valor específico. "
   ]
  },
  {
   "cell_type": "code",
   "execution_count": 8,
   "metadata": {
    "scrolled": true
   },
   "outputs": [
    {
     "name": "stdout",
     "output_type": "stream",
     "text": [
      "Date\n",
      "2016-05-02     5.915384\n",
      "2016-05-03     5.907692\n",
      "2016-05-04     5.880769\n",
      "2016-05-05     5.865384\n",
      "2016-05-06     5.838461\n",
      "                ...    \n",
      "2021-04-22    37.750000\n",
      "2021-04-23    37.700001\n",
      "2021-04-26    37.980000\n",
      "2021-04-27    37.435001\n",
      "2021-04-28    38.900002\n",
      "Name: High, Length: 1239, dtype: float64\n"
     ]
    }
   ],
   "source": [
    "print(acaoWeg[\"High\"])"
   ]
  },
  {
   "cell_type": "markdown",
   "metadata": {},
   "source": [
    "### Podemos pegar o valor anterior e o atribuir a uma variável e manipular essa variável como se fosse um vetor qualquer, querendo saber sua segunda posição por exemplo:"
   ]
  },
  {
   "cell_type": "code",
   "execution_count": 9,
   "metadata": {},
   "outputs": [
    {
     "name": "stdout",
     "output_type": "stream",
     "text": [
      "5.880768775939941\n"
     ]
    }
   ],
   "source": [
    "altaWeg = acaoWeg[\"High\"]\n",
    "print (altaWeg[2])"
   ]
  },
  {
   "cell_type": "markdown",
   "metadata": {},
   "source": [
    "# Obtendo indicadores do Banco Mundial:"
   ]
  },
  {
   "cell_type": "markdown",
   "metadata": {},
   "source": [
    "### 1- Para obter os indicadores macroeconômicos do banco mundial precisamos de um ticker. \n",
    "### 2- Conseguimos obter o ticker pesquisando no site do banco mundial um indicador como o pib do Brasil por exemplo: https://data.worldbank.org/indicator/NY.GDP.MKTP.CD?locations=BR&view=chart \n",
    "### 3- O ticker vem depois de indicator/ na url, nesse caso o indicador do pib de um país será NY.GDP.MKTP.CD\n",
    "### 4- O país escolhido aparece depois de locations= , no caso o nosso símbolo para o Brasil será BR\n",
    "### 5- Depois disso precisamos chamar a função, descrever os indicadores, informar o país ou países, o ano inicial e o ano final de busca dos dados:"
   ]
  },
  {
   "cell_type": "code",
   "execution_count": 18,
   "metadata": {},
   "outputs": [
    {
     "data": {
      "text/html": [
       "<div>\n",
       "<style scoped>\n",
       "    .dataframe tbody tr th:only-of-type {\n",
       "        vertical-align: middle;\n",
       "    }\n",
       "\n",
       "    .dataframe tbody tr th {\n",
       "        vertical-align: top;\n",
       "    }\n",
       "\n",
       "    .dataframe thead th {\n",
       "        text-align: right;\n",
       "    }\n",
       "</style>\n",
       "<table border=\"1\" class=\"dataframe\">\n",
       "  <thead>\n",
       "    <tr style=\"text-align: right;\">\n",
       "      <th></th>\n",
       "      <th></th>\n",
       "      <th>NY.GDP.MKTP.CD</th>\n",
       "    </tr>\n",
       "    <tr>\n",
       "      <th>country</th>\n",
       "      <th>year</th>\n",
       "      <th></th>\n",
       "    </tr>\n",
       "  </thead>\n",
       "  <tbody>\n",
       "    <tr>\n",
       "      <td rowspan=\"11\" valign=\"top\">Brazil</td>\n",
       "      <td>2020</td>\n",
       "      <td>NaN</td>\n",
       "    </tr>\n",
       "    <tr>\n",
       "      <td>2019</td>\n",
       "      <td>1.839758e+12</td>\n",
       "    </tr>\n",
       "    <tr>\n",
       "      <td>2018</td>\n",
       "      <td>1.885483e+12</td>\n",
       "    </tr>\n",
       "    <tr>\n",
       "      <td>2017</td>\n",
       "      <td>2.062831e+12</td>\n",
       "    </tr>\n",
       "    <tr>\n",
       "      <td>2016</td>\n",
       "      <td>1.795700e+12</td>\n",
       "    </tr>\n",
       "    <tr>\n",
       "      <td>2015</td>\n",
       "      <td>1.802214e+12</td>\n",
       "    </tr>\n",
       "    <tr>\n",
       "      <td>2014</td>\n",
       "      <td>2.455994e+12</td>\n",
       "    </tr>\n",
       "    <tr>\n",
       "      <td>2013</td>\n",
       "      <td>2.472807e+12</td>\n",
       "    </tr>\n",
       "    <tr>\n",
       "      <td>2012</td>\n",
       "      <td>2.465189e+12</td>\n",
       "    </tr>\n",
       "    <tr>\n",
       "      <td>2011</td>\n",
       "      <td>2.616201e+12</td>\n",
       "    </tr>\n",
       "    <tr>\n",
       "      <td>2010</td>\n",
       "      <td>2.208872e+12</td>\n",
       "    </tr>\n",
       "  </tbody>\n",
       "</table>\n",
       "</div>"
      ],
      "text/plain": [
       "              NY.GDP.MKTP.CD\n",
       "country year                \n",
       "Brazil  2020             NaN\n",
       "        2019    1.839758e+12\n",
       "        2018    1.885483e+12\n",
       "        2017    2.062831e+12\n",
       "        2016    1.795700e+12\n",
       "        2015    1.802214e+12\n",
       "        2014    2.455994e+12\n",
       "        2013    2.472807e+12\n",
       "        2012    2.465189e+12\n",
       "        2011    2.616201e+12\n",
       "        2010    2.208872e+12"
      ]
     },
     "execution_count": 18,
     "metadata": {},
     "output_type": "execute_result"
    }
   ],
   "source": [
    "pib = web.wb.download(indicator='NY.GDP.MKTP.CD', country=['BR'], start='2010', end='2020')\n",
    "pib"
   ]
  },
  {
   "cell_type": "markdown",
   "metadata": {},
   "source": [
    "### No exemplo abaixo vamos buscas a inflação dos BRICS (Brasil, Rússia, Índia, China e África do Sul):\n",
    "### Ao buscar isso no site temos a seguinte url: https://data.worldbank.org/indicator/FP.CPI.TOTL.ZG?locations=BR-IN-RU-CN-ZA&view=chart\n",
    "### indicador = 'FP.CPI.TOTL.ZG'\n",
    "### ticker dos países = BR-IN-RU-CN-ZA ------> ticker = ['BR', 'IN', 'RU', 'CN', 'ZA']"
   ]
  },
  {
   "cell_type": "code",
   "execution_count": 19,
   "metadata": {},
   "outputs": [
    {
     "name": "stderr",
     "output_type": "stream",
     "text": [
      "C:\\Users\\Pessoal\\Anaconda3\\lib\\site-packages\\pandas_datareader\\wb.py:593: UserWarning: Non-standard ISO country codes: BR-IN-RU-CN-ZA\n",
      "  \"Non-standard ISO \" \"country codes: %s\" % tmp, UserWarning\n",
      "C:\\Users\\Pessoal\\Anaconda3\\lib\\site-packages\\pandas_datareader\\wb.py:659: UserWarning: Problem with a World Bank Query \n",
      " Invalid value \n",
      "  The provided parameter value is not valid. Indicator: FP.CPI.TOTL.ZG\n",
      "  warnings.warn(msg)\n"
     ]
    },
    {
     "ename": "ValueError",
     "evalue": "No indicators returned data.",
     "output_type": "error",
     "traceback": [
      "\u001b[1;31m---------------------------------------------------------------------------\u001b[0m",
      "\u001b[1;31mValueError\u001b[0m                                Traceback (most recent call last)",
      "\u001b[1;32m<ipython-input-19-2b358936b701>\u001b[0m in \u001b[0;36m<module>\u001b[1;34m\u001b[0m\n\u001b[1;32m----> 1\u001b[1;33m \u001b[0minflacao\u001b[0m \u001b[1;33m=\u001b[0m \u001b[0mweb\u001b[0m\u001b[1;33m.\u001b[0m\u001b[0mwb\u001b[0m\u001b[1;33m.\u001b[0m\u001b[0mdownload\u001b[0m\u001b[1;33m(\u001b[0m\u001b[0mindicator\u001b[0m\u001b[1;33m=\u001b[0m\u001b[1;34m'FP.CPI.TOTL.ZG'\u001b[0m\u001b[1;33m,\u001b[0m \u001b[0mcountry\u001b[0m\u001b[1;33m=\u001b[0m\u001b[1;34m'BR-IN-RU-CN-ZA'\u001b[0m\u001b[1;33m,\u001b[0m \u001b[0mstart\u001b[0m\u001b[1;33m=\u001b[0m\u001b[1;34m'2010'\u001b[0m\u001b[1;33m,\u001b[0m \u001b[0mend\u001b[0m\u001b[1;33m=\u001b[0m\u001b[1;34m'2020'\u001b[0m\u001b[1;33m)\u001b[0m\u001b[1;33m\u001b[0m\u001b[1;33m\u001b[0m\u001b[0m\n\u001b[0m",
      "\u001b[1;32m~\\Anaconda3\\lib\\site-packages\\pandas_datareader\\wb.py\u001b[0m in \u001b[0;36mdownload\u001b[1;34m(country, indicator, start, end, freq, errors, **kwargs)\u001b[0m\n\u001b[0;32m    866\u001b[0m         \u001b[0mfreq\u001b[0m\u001b[1;33m=\u001b[0m\u001b[0mfreq\u001b[0m\u001b[1;33m,\u001b[0m\u001b[1;33m\u001b[0m\u001b[1;33m\u001b[0m\u001b[0m\n\u001b[0;32m    867\u001b[0m         \u001b[0merrors\u001b[0m\u001b[1;33m=\u001b[0m\u001b[0merrors\u001b[0m\u001b[1;33m,\u001b[0m\u001b[1;33m\u001b[0m\u001b[1;33m\u001b[0m\u001b[0m\n\u001b[1;32m--> 868\u001b[1;33m         \u001b[1;33m**\u001b[0m\u001b[0mkwargs\u001b[0m\u001b[1;33m\u001b[0m\u001b[1;33m\u001b[0m\u001b[0m\n\u001b[0m\u001b[0;32m    869\u001b[0m     ).read()\n\u001b[0;32m    870\u001b[0m \u001b[1;33m\u001b[0m\u001b[0m\n",
      "\u001b[1;32m~\\Anaconda3\\lib\\site-packages\\pandas_datareader\\wb.py\u001b[0m in \u001b[0;36mread\u001b[1;34m(self)\u001b[0m\n\u001b[0;32m    639\u001b[0m         \u001b[1;34m\"\"\"Read data\"\"\"\u001b[0m\u001b[1;33m\u001b[0m\u001b[1;33m\u001b[0m\u001b[0m\n\u001b[0;32m    640\u001b[0m         \u001b[1;32mtry\u001b[0m\u001b[1;33m:\u001b[0m\u001b[1;33m\u001b[0m\u001b[1;33m\u001b[0m\u001b[0m\n\u001b[1;32m--> 641\u001b[1;33m             \u001b[1;32mreturn\u001b[0m \u001b[0mself\u001b[0m\u001b[1;33m.\u001b[0m\u001b[0m_read\u001b[0m\u001b[1;33m(\u001b[0m\u001b[1;33m)\u001b[0m\u001b[1;33m\u001b[0m\u001b[1;33m\u001b[0m\u001b[0m\n\u001b[0m\u001b[0;32m    642\u001b[0m         \u001b[1;32mfinally\u001b[0m\u001b[1;33m:\u001b[0m\u001b[1;33m\u001b[0m\u001b[1;33m\u001b[0m\u001b[0m\n\u001b[0;32m    643\u001b[0m             \u001b[0mself\u001b[0m\u001b[1;33m.\u001b[0m\u001b[0mclose\u001b[0m\u001b[1;33m(\u001b[0m\u001b[1;33m)\u001b[0m\u001b[1;33m\u001b[0m\u001b[1;33m\u001b[0m\u001b[0m\n",
      "\u001b[1;32m~\\Anaconda3\\lib\\site-packages\\pandas_datareader\\wb.py\u001b[0m in \u001b[0;36m_read\u001b[1;34m(self)\u001b[0m\n\u001b[0;32m    669\u001b[0m         \u001b[1;32melse\u001b[0m\u001b[1;33m:\u001b[0m\u001b[1;33m\u001b[0m\u001b[1;33m\u001b[0m\u001b[0m\n\u001b[0;32m    670\u001b[0m             \u001b[0mmsg\u001b[0m \u001b[1;33m=\u001b[0m \u001b[1;34m\"No indicators returned data.\"\u001b[0m\u001b[1;33m\u001b[0m\u001b[1;33m\u001b[0m\u001b[0m\n\u001b[1;32m--> 671\u001b[1;33m             \u001b[1;32mraise\u001b[0m \u001b[0mValueError\u001b[0m\u001b[1;33m(\u001b[0m\u001b[0mmsg\u001b[0m\u001b[1;33m)\u001b[0m\u001b[1;33m\u001b[0m\u001b[1;33m\u001b[0m\u001b[0m\n\u001b[0m\u001b[0;32m    672\u001b[0m \u001b[1;33m\u001b[0m\u001b[0m\n\u001b[0;32m    673\u001b[0m     \u001b[1;32mdef\u001b[0m \u001b[0m_read_lines\u001b[0m\u001b[1;33m(\u001b[0m\u001b[0mself\u001b[0m\u001b[1;33m,\u001b[0m \u001b[0mout\u001b[0m\u001b[1;33m)\u001b[0m\u001b[1;33m:\u001b[0m\u001b[1;33m\u001b[0m\u001b[1;33m\u001b[0m\u001b[0m\n",
      "\u001b[1;31mValueError\u001b[0m: No indicators returned data."
     ]
    }
   ],
   "source": [
    "inflacao = web.wb.download(indicator='FP.CPI.TOTL.ZG', country=['BR', 'IN', 'RU', 'CN', 'ZA'], start='2010', end='2020')"
   ]
  },
  {
   "cell_type": "code",
   "execution_count": null,
   "metadata": {},
   "outputs": [],
   "source": []
  }
 ],
 "metadata": {
  "kernelspec": {
   "display_name": "Python 3",
   "language": "python",
   "name": "python3"
  },
  "language_info": {
   "codemirror_mode": {
    "name": "ipython",
    "version": 3
   },
   "file_extension": ".py",
   "mimetype": "text/x-python",
   "name": "python",
   "nbconvert_exporter": "python",
   "pygments_lexer": "ipython3",
   "version": "3.7.4"
  }
 },
 "nbformat": 4,
 "nbformat_minor": 2
}
