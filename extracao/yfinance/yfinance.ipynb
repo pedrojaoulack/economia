{
 "cells": [
  {
   "cell_type": "markdown",
   "metadata": {},
   "source": [
    "# Vamos ver como importar dados de empresas usando o yfinance:\n",
    "### para mais informações sobre a biblioteca e sua documentação vá em: \n",
    "https://pypi.org/project/yfinance/"
   ]
  },
  {
   "cell_type": "code",
   "execution_count": 1,
   "metadata": {},
   "outputs": [],
   "source": [
    "#Bibliotecas Necessárias:\n",
    "import yfinance as yf"
   ]
  },
  {
   "cell_type": "code",
   "execution_count": 2,
   "metadata": {},
   "outputs": [],
   "source": [
    "# atribuindo a busca ao nome dentro da funcao Ticker\n",
    "ticker = yf.Ticker('petr3.sa')"
   ]
  },
  {
   "cell_type": "code",
   "execution_count": 3,
   "metadata": {},
   "outputs": [
    {
     "output_type": "execute_result",
     "data": {
      "text/plain": [
       "{'zip': '20031-912',\n",
       " 'sector': 'Energy',\n",
       " 'fullTimeEmployees': 49050,\n",
       " 'longBusinessSummary': 'PetrÃ³leo Brasileiro S.A. - Petrobras produce and sells oil and gas in Brazil and internationally. It engages in prospecting, drilling, refining, processing, trading, and transporting crude oil from producing onshore and offshore oil fields, and shale or other rocks, as well as oil products, natural gas, and other liquid hydrocarbons. The company operates through Exploration and Production; Refining, Transportation and Marketing; Gas and Power; and Corporate and Other Businesses segments. The Exploration and Production segment explores for, develops, and produces crude oil, natural gas liquids, and natural gas primarily for supplies to the its domestic refineries. The Refining, Transportation and Marketing segment engages in the refining, logistics, transport, marketing, and trading of crude oil and oil products; exportation of ethanol; and extraction and processing of shale, as well as holding interests in petrochemical companies. The Gas and Power segment engages in the logistic and trading of natural gas and electricity; generation of electricity through thermoelectric power plants; holding interests in transportation and distribution of natural gas; and fertilizer production business. The Corporate and Other Businesses segment produces biodiesel and its co-products, and ethanol; and distributes oil products. PetrÃ³leo Brasileiro S.A. - Petrobras was founded in 1953 and is headquartered in Rio de Janeiro, Brazil.',\n",
       " 'city': 'Rio De Janeiro',\n",
       " 'phone': '55 21 3224 4477',\n",
       " 'state': 'RJ',\n",
       " 'country': 'Brazil',\n",
       " 'companyOfficers': [],\n",
       " 'website': 'http://petrobras.com.br/pt',\n",
       " 'maxAge': 1,\n",
       " 'address1': 'Avenida RepUblica do Chile, 65',\n",
       " 'industry': 'Oil & Gas Integrated',\n",
       " 'address2': 'Centro',\n",
       " 'previousClose': 23.1,\n",
       " 'regularMarketOpen': 23.17,\n",
       " 'twoHundredDayAverage': 25.125563,\n",
       " 'trailingAnnualDividendYield': 0.034069262,\n",
       " 'payoutRatio': 0.5169,\n",
       " 'volume24Hr': None,\n",
       " 'regularMarketDayHigh': 23.26,\n",
       " 'navPrice': None,\n",
       " 'averageDailyVolume10Day': 19152466,\n",
       " 'totalAssets': None,\n",
       " 'regularMarketPreviousClose': 23.1,\n",
       " 'fiftyDayAverage': 23.342857,\n",
       " 'trailingAnnualDividendRate': 0.787,\n",
       " 'open': 23.17,\n",
       " 'toCurrency': None,\n",
       " 'averageVolume10days': 19152466,\n",
       " 'expireDate': None,\n",
       " 'yield': None,\n",
       " 'algorithm': None,\n",
       " 'dividendRate': 0.79,\n",
       " 'exDividendDate': 1618444800,\n",
       " 'beta': 1.544084,\n",
       " 'circulatingSupply': None,\n",
       " 'startDate': None,\n",
       " 'regularMarketDayLow': 22.77,\n",
       " 'priceHint': 2,\n",
       " 'currency': 'BRL',\n",
       " 'trailingPE': 41.85321,\n",
       " 'regularMarketVolume': 9779400,\n",
       " 'lastMarket': None,\n",
       " 'maxSupply': None,\n",
       " 'openInterest': None,\n",
       " 'marketCap': 300414533632,\n",
       " 'volumeAllCurrencies': None,\n",
       " 'strikePrice': None,\n",
       " 'averageVolume': 30852489,\n",
       " 'priceToSalesTrailing12Months': 1.2406338,\n",
       " 'dayLow': 22.77,\n",
       " 'ask': 22.82,\n",
       " 'ytdReturn': None,\n",
       " 'askSize': 0,\n",
       " 'volume': 9779400,\n",
       " 'fiftyTwoWeekHigh': 32.34,\n",
       " 'forwardPE': 6.6115937,\n",
       " 'fromCurrency': None,\n",
       " 'fiveYearAvgDividendYield': None,\n",
       " 'fiftyTwoWeekLow': 17.1,\n",
       " 'bid': 22.8,\n",
       " 'tradeable': False,\n",
       " 'dividendYield': 0.0343,\n",
       " 'bidSize': 0,\n",
       " 'dayHigh': 23.26,\n",
       " 'exchange': 'SAO',\n",
       " 'shortName': 'PETROBRAS   ON      N2',\n",
       " 'longName': 'Petróleo Brasileiro S.A. - Petrobras',\n",
       " 'exchangeTimezoneName': 'America/Sao_Paulo',\n",
       " 'exchangeTimezoneShortName': 'BRT',\n",
       " 'isEsgPopulated': False,\n",
       " 'gmtOffSetMilliseconds': '-10800000',\n",
       " 'quoteType': 'EQUITY',\n",
       " 'symbol': 'PETR3.SA',\n",
       " 'messageBoardId': 'finmb_409268',\n",
       " 'market': 'br_market',\n",
       " 'annualHoldingsTurnover': None,\n",
       " 'enterpriseToRevenue': 2.611,\n",
       " 'beta3Year': None,\n",
       " 'profitMargins': 0.02935,\n",
       " 'enterpriseToEbitda': 4.699,\n",
       " '52WeekChange': 0.27977836,\n",
       " 'morningStarRiskRating': None,\n",
       " 'forwardEps': 3.45,\n",
       " 'revenueQuarterlyGrowth': None,\n",
       " 'sharesOutstanding': 7442229760,\n",
       " 'fundInceptionDate': None,\n",
       " 'annualReportExpenseRatio': None,\n",
       " 'bookValue': 23.643,\n",
       " 'sharesShort': None,\n",
       " 'sharesPercentSharesOut': None,\n",
       " 'fundFamily': None,\n",
       " 'lastFiscalYearEnd': 1609372800,\n",
       " 'heldPercentInstitutions': 0.14437,\n",
       " 'netIncomeToCommon': 7107999744,\n",
       " 'trailingEps': 0.545,\n",
       " 'lastDividendValue': 0.792012,\n",
       " 'SandP52WeekChange': 0.47082388,\n",
       " 'priceToBook': 0.9647676,\n",
       " 'heldPercentInsiders': 0.50503,\n",
       " 'nextFiscalYearEnd': 1672444800,\n",
       " 'mostRecentQuarter': 1609372800,\n",
       " 'shortRatio': None,\n",
       " 'sharesShortPreviousMonthDate': None,\n",
       " 'floatShares': 8250196414,\n",
       " 'enterpriseValue': 632329076736,\n",
       " 'threeYearAverageReturn': None,\n",
       " 'lastSplitDate': 1209340800,\n",
       " 'lastSplitFactor': '2:1',\n",
       " 'legalType': None,\n",
       " 'lastDividendDate': 1618444800,\n",
       " 'morningStarOverallRating': None,\n",
       " 'earningsQuarterlyGrowth': 6.346,\n",
       " 'dateShortInterest': None,\n",
       " 'pegRatio': None,\n",
       " 'lastCapGain': None,\n",
       " 'shortPercentOfFloat': None,\n",
       " 'sharesShortPriorMonth': None,\n",
       " 'impliedSharesOutstanding': 13044200448,\n",
       " 'category': None,\n",
       " 'fiveYearAverageReturn': None,\n",
       " 'regularMarketPrice': 22.81,\n",
       " 'logo_url': 'https://logo.clearbit.com/petrobras.com.br'}"
      ]
     },
     "metadata": {},
     "execution_count": 3
    }
   ],
   "source": [
    "# nos da uma gama de informações da ação em si:\n",
    "ticker.info"
   ]
  },
  {
   "cell_type": "code",
   "execution_count": 4,
   "metadata": {},
   "outputs": [
    {
     "output_type": "execute_result",
     "data": {
      "text/plain": [
       "                 Open       High        Low      Close    Volume  Dividends  \\\n",
       "Date                                                                          \n",
       "2016-05-03  11.970174  11.970174  11.507690  11.625578   8180300        0.0   \n",
       "2016-05-04  11.698125  12.060858  11.607442  11.752535   9468600        0.0   \n",
       "2016-05-05  12.178745  12.278496  11.199367  11.462348   8752100        0.0   \n",
       "2016-05-06  11.199367  11.906695  11.126821  11.725329   6254900        0.0   \n",
       "2016-05-09  11.725329  11.734397  10.555517  10.945454  14992000        0.0   \n",
       "...               ...        ...        ...        ...       ...        ...   \n",
       "2021-04-27  23.350000  23.639999  22.620001  22.740000  22021900        0.0   \n",
       "2021-04-28  22.959999  23.620001  22.930000  23.549999  19082500        0.0   \n",
       "2021-04-29  23.690001  23.900000  22.860001  23.080000  18139100        0.0   \n",
       "2021-04-30  22.889999  23.410000  22.780001  23.100000  27261900        0.0   \n",
       "2021-05-03  23.170000  23.260000  22.770000  22.809999   9779300        0.0   \n",
       "\n",
       "            Stock Splits  \n",
       "Date                      \n",
       "2016-05-03             0  \n",
       "2016-05-04             0  \n",
       "2016-05-05             0  \n",
       "2016-05-06             0  \n",
       "2016-05-09             0  \n",
       "...                  ...  \n",
       "2021-04-27             0  \n",
       "2021-04-28             0  \n",
       "2021-04-29             0  \n",
       "2021-04-30             0  \n",
       "2021-05-03             0  \n",
       "\n",
       "[1241 rows x 7 columns]"
      ],
      "text/html": "<div>\n<style scoped>\n    .dataframe tbody tr th:only-of-type {\n        vertical-align: middle;\n    }\n\n    .dataframe tbody tr th {\n        vertical-align: top;\n    }\n\n    .dataframe thead th {\n        text-align: right;\n    }\n</style>\n<table border=\"1\" class=\"dataframe\">\n  <thead>\n    <tr style=\"text-align: right;\">\n      <th></th>\n      <th>Open</th>\n      <th>High</th>\n      <th>Low</th>\n      <th>Close</th>\n      <th>Volume</th>\n      <th>Dividends</th>\n      <th>Stock Splits</th>\n    </tr>\n    <tr>\n      <th>Date</th>\n      <th></th>\n      <th></th>\n      <th></th>\n      <th></th>\n      <th></th>\n      <th></th>\n      <th></th>\n    </tr>\n  </thead>\n  <tbody>\n    <tr>\n      <td>2016-05-03</td>\n      <td>11.970174</td>\n      <td>11.970174</td>\n      <td>11.507690</td>\n      <td>11.625578</td>\n      <td>8180300</td>\n      <td>0.0</td>\n      <td>0</td>\n    </tr>\n    <tr>\n      <td>2016-05-04</td>\n      <td>11.698125</td>\n      <td>12.060858</td>\n      <td>11.607442</td>\n      <td>11.752535</td>\n      <td>9468600</td>\n      <td>0.0</td>\n      <td>0</td>\n    </tr>\n    <tr>\n      <td>2016-05-05</td>\n      <td>12.178745</td>\n      <td>12.278496</td>\n      <td>11.199367</td>\n      <td>11.462348</td>\n      <td>8752100</td>\n      <td>0.0</td>\n      <td>0</td>\n    </tr>\n    <tr>\n      <td>2016-05-06</td>\n      <td>11.199367</td>\n      <td>11.906695</td>\n      <td>11.126821</td>\n      <td>11.725329</td>\n      <td>6254900</td>\n      <td>0.0</td>\n      <td>0</td>\n    </tr>\n    <tr>\n      <td>2016-05-09</td>\n      <td>11.725329</td>\n      <td>11.734397</td>\n      <td>10.555517</td>\n      <td>10.945454</td>\n      <td>14992000</td>\n      <td>0.0</td>\n      <td>0</td>\n    </tr>\n    <tr>\n      <td>...</td>\n      <td>...</td>\n      <td>...</td>\n      <td>...</td>\n      <td>...</td>\n      <td>...</td>\n      <td>...</td>\n      <td>...</td>\n    </tr>\n    <tr>\n      <td>2021-04-27</td>\n      <td>23.350000</td>\n      <td>23.639999</td>\n      <td>22.620001</td>\n      <td>22.740000</td>\n      <td>22021900</td>\n      <td>0.0</td>\n      <td>0</td>\n    </tr>\n    <tr>\n      <td>2021-04-28</td>\n      <td>22.959999</td>\n      <td>23.620001</td>\n      <td>22.930000</td>\n      <td>23.549999</td>\n      <td>19082500</td>\n      <td>0.0</td>\n      <td>0</td>\n    </tr>\n    <tr>\n      <td>2021-04-29</td>\n      <td>23.690001</td>\n      <td>23.900000</td>\n      <td>22.860001</td>\n      <td>23.080000</td>\n      <td>18139100</td>\n      <td>0.0</td>\n      <td>0</td>\n    </tr>\n    <tr>\n      <td>2021-04-30</td>\n      <td>22.889999</td>\n      <td>23.410000</td>\n      <td>22.780001</td>\n      <td>23.100000</td>\n      <td>27261900</td>\n      <td>0.0</td>\n      <td>0</td>\n    </tr>\n    <tr>\n      <td>2021-05-03</td>\n      <td>23.170000</td>\n      <td>23.260000</td>\n      <td>22.770000</td>\n      <td>22.809999</td>\n      <td>9779300</td>\n      <td>0.0</td>\n      <td>0</td>\n    </tr>\n  </tbody>\n</table>\n<p>1241 rows × 7 columns</p>\n</div>"
     },
     "metadata": {},
     "execution_count": 4
    }
   ],
   "source": [
    "#pegando dados históricos da ação:\n",
    "ticker.history(period='5y', interval='1d')"
   ]
  },
  {
   "cell_type": "code",
   "execution_count": 5,
   "metadata": {},
   "outputs": [
    {
     "output_type": "execute_result",
     "data": {
      "text/plain": [
       "                                         2020-12-31   2019-12-31   2018-12-31  \\\n",
       "Research Development                      1.819e+09    2.268e+09    2.345e+09   \n",
       "Effect Of Accounting Charges                   None         None         None   \n",
       "Income Before Tax                           3.7e+07   4.7242e+10   3.8967e+10   \n",
       "Minority Interest                          2.74e+09    3.596e+09    6.318e+09   \n",
       "Net Income                                7.108e+09   4.0137e+10   2.5779e+10   \n",
       "Selling General Administrative           3.0545e+10   2.6114e+10   2.2084e+10   \n",
       "Gross Profit                            1.23962e+11  1.22105e+11  1.18687e+11   \n",
       "Ebit                                       8.04e+10    7.777e+10   7.0668e+10   \n",
       "Operating Income                           8.04e+10    7.777e+10   7.0668e+10   \n",
       "Other Operating Expenses                 -7.274e+09   1.3707e+10   1.6192e+10   \n",
       "Interest Expense                        -1.3702e+10   -1.381e+10   -1.498e+10   \n",
       "Extraordinary Items                            None         None         None   \n",
       "Non Recurring                                  None         None         None   \n",
       "Other Items                                    None         None         None   \n",
       "Income Tax Expense                       -6.209e+09     1.64e+10   1.5462e+10   \n",
       "Total Revenue                           2.42146e+11  2.63827e+11  3.10255e+11   \n",
       "Total Operating Expenses                1.61746e+11  1.86057e+11  2.39587e+11   \n",
       "Cost Of Revenue                         1.18184e+11  1.41722e+11  1.91568e+11   \n",
       "Total Other Income Expense Net          -8.0363e+10  -3.0528e+10  -3.1701e+10   \n",
       "Discontinued Operations                         NaN   1.0128e+10    3.193e+09   \n",
       "Net Income From Continuing Ops            6.246e+09   3.0842e+10   2.3505e+10   \n",
       "Net Income Applicable To Common Shares    7.108e+09   4.0137e+10   2.5779e+10   \n",
       "\n",
       "                                         2017-12-31  \n",
       "Research Development                      1.831e+09  \n",
       "Effect Of Accounting Charges                   None  \n",
       "Income Before Tax                         6.174e+09  \n",
       "Minority Interest                         5.624e+09  \n",
       "Net Income                                -4.46e+08  \n",
       "Selling General Administrative           2.3824e+10  \n",
       "Gross Profit                             9.1595e+10  \n",
       "Ebit                                     4.8004e+10  \n",
       "Operating Income                         4.8004e+10  \n",
       "Other Operating Expenses                 1.3411e+10  \n",
       "Interest Expense                        -1.6602e+10  \n",
       "Extraordinary Items                            None  \n",
       "Non Recurring                                  None  \n",
       "Other Items                                    None  \n",
       "Income Tax Expense                        5.797e+09  \n",
       "Total Revenue                           2.58454e+11  \n",
       "Total Operating Expenses                 2.1045e+11  \n",
       "Cost Of Revenue                         1.66859e+11  \n",
       "Total Other Income Expense Net           -4.183e+10  \n",
       "Discontinued Operations                   3.193e+09  \n",
       "Net Income From Continuing Ops             3.77e+08  \n",
       "Net Income Applicable To Common Shares    -4.46e+08  "
      ],
      "text/html": "<div>\n<style scoped>\n    .dataframe tbody tr th:only-of-type {\n        vertical-align: middle;\n    }\n\n    .dataframe tbody tr th {\n        vertical-align: top;\n    }\n\n    .dataframe thead th {\n        text-align: right;\n    }\n</style>\n<table border=\"1\" class=\"dataframe\">\n  <thead>\n    <tr style=\"text-align: right;\">\n      <th></th>\n      <th>2020-12-31</th>\n      <th>2019-12-31</th>\n      <th>2018-12-31</th>\n      <th>2017-12-31</th>\n    </tr>\n  </thead>\n  <tbody>\n    <tr>\n      <td>Research Development</td>\n      <td>1.819e+09</td>\n      <td>2.268e+09</td>\n      <td>2.345e+09</td>\n      <td>1.831e+09</td>\n    </tr>\n    <tr>\n      <td>Effect Of Accounting Charges</td>\n      <td>None</td>\n      <td>None</td>\n      <td>None</td>\n      <td>None</td>\n    </tr>\n    <tr>\n      <td>Income Before Tax</td>\n      <td>3.7e+07</td>\n      <td>4.7242e+10</td>\n      <td>3.8967e+10</td>\n      <td>6.174e+09</td>\n    </tr>\n    <tr>\n      <td>Minority Interest</td>\n      <td>2.74e+09</td>\n      <td>3.596e+09</td>\n      <td>6.318e+09</td>\n      <td>5.624e+09</td>\n    </tr>\n    <tr>\n      <td>Net Income</td>\n      <td>7.108e+09</td>\n      <td>4.0137e+10</td>\n      <td>2.5779e+10</td>\n      <td>-4.46e+08</td>\n    </tr>\n    <tr>\n      <td>Selling General Administrative</td>\n      <td>3.0545e+10</td>\n      <td>2.6114e+10</td>\n      <td>2.2084e+10</td>\n      <td>2.3824e+10</td>\n    </tr>\n    <tr>\n      <td>Gross Profit</td>\n      <td>1.23962e+11</td>\n      <td>1.22105e+11</td>\n      <td>1.18687e+11</td>\n      <td>9.1595e+10</td>\n    </tr>\n    <tr>\n      <td>Ebit</td>\n      <td>8.04e+10</td>\n      <td>7.777e+10</td>\n      <td>7.0668e+10</td>\n      <td>4.8004e+10</td>\n    </tr>\n    <tr>\n      <td>Operating Income</td>\n      <td>8.04e+10</td>\n      <td>7.777e+10</td>\n      <td>7.0668e+10</td>\n      <td>4.8004e+10</td>\n    </tr>\n    <tr>\n      <td>Other Operating Expenses</td>\n      <td>-7.274e+09</td>\n      <td>1.3707e+10</td>\n      <td>1.6192e+10</td>\n      <td>1.3411e+10</td>\n    </tr>\n    <tr>\n      <td>Interest Expense</td>\n      <td>-1.3702e+10</td>\n      <td>-1.381e+10</td>\n      <td>-1.498e+10</td>\n      <td>-1.6602e+10</td>\n    </tr>\n    <tr>\n      <td>Extraordinary Items</td>\n      <td>None</td>\n      <td>None</td>\n      <td>None</td>\n      <td>None</td>\n    </tr>\n    <tr>\n      <td>Non Recurring</td>\n      <td>None</td>\n      <td>None</td>\n      <td>None</td>\n      <td>None</td>\n    </tr>\n    <tr>\n      <td>Other Items</td>\n      <td>None</td>\n      <td>None</td>\n      <td>None</td>\n      <td>None</td>\n    </tr>\n    <tr>\n      <td>Income Tax Expense</td>\n      <td>-6.209e+09</td>\n      <td>1.64e+10</td>\n      <td>1.5462e+10</td>\n      <td>5.797e+09</td>\n    </tr>\n    <tr>\n      <td>Total Revenue</td>\n      <td>2.42146e+11</td>\n      <td>2.63827e+11</td>\n      <td>3.10255e+11</td>\n      <td>2.58454e+11</td>\n    </tr>\n    <tr>\n      <td>Total Operating Expenses</td>\n      <td>1.61746e+11</td>\n      <td>1.86057e+11</td>\n      <td>2.39587e+11</td>\n      <td>2.1045e+11</td>\n    </tr>\n    <tr>\n      <td>Cost Of Revenue</td>\n      <td>1.18184e+11</td>\n      <td>1.41722e+11</td>\n      <td>1.91568e+11</td>\n      <td>1.66859e+11</td>\n    </tr>\n    <tr>\n      <td>Total Other Income Expense Net</td>\n      <td>-8.0363e+10</td>\n      <td>-3.0528e+10</td>\n      <td>-3.1701e+10</td>\n      <td>-4.183e+10</td>\n    </tr>\n    <tr>\n      <td>Discontinued Operations</td>\n      <td>NaN</td>\n      <td>1.0128e+10</td>\n      <td>3.193e+09</td>\n      <td>3.193e+09</td>\n    </tr>\n    <tr>\n      <td>Net Income From Continuing Ops</td>\n      <td>6.246e+09</td>\n      <td>3.0842e+10</td>\n      <td>2.3505e+10</td>\n      <td>3.77e+08</td>\n    </tr>\n    <tr>\n      <td>Net Income Applicable To Common Shares</td>\n      <td>7.108e+09</td>\n      <td>4.0137e+10</td>\n      <td>2.5779e+10</td>\n      <td>-4.46e+08</td>\n    </tr>\n  </tbody>\n</table>\n</div>"
     },
     "metadata": {},
     "execution_count": 5
    }
   ],
   "source": [
    "#dados financeiros:\n",
    "ticker.financials"
   ]
  },
  {
   "cell_type": "code",
   "execution_count": 6,
   "metadata": {},
   "outputs": [
    {
     "output_type": "execute_result",
     "data": {
      "text/plain": [
       "        0                                      1\n",
       "0  50.50%        % of Shares Held by All Insider\n",
       "1  14.44%       % of Shares Held by Institutions\n",
       "2  29.17%        % of Float Held by Institutions\n",
       "3     267  Number of Institutions Holding Shares"
      ],
      "text/html": "<div>\n<style scoped>\n    .dataframe tbody tr th:only-of-type {\n        vertical-align: middle;\n    }\n\n    .dataframe tbody tr th {\n        vertical-align: top;\n    }\n\n    .dataframe thead th {\n        text-align: right;\n    }\n</style>\n<table border=\"1\" class=\"dataframe\">\n  <thead>\n    <tr style=\"text-align: right;\">\n      <th></th>\n      <th>0</th>\n      <th>1</th>\n    </tr>\n  </thead>\n  <tbody>\n    <tr>\n      <td>0</td>\n      <td>50.50%</td>\n      <td>% of Shares Held by All Insider</td>\n    </tr>\n    <tr>\n      <td>1</td>\n      <td>14.44%</td>\n      <td>% of Shares Held by Institutions</td>\n    </tr>\n    <tr>\n      <td>2</td>\n      <td>29.17%</td>\n      <td>% of Float Held by Institutions</td>\n    </tr>\n    <tr>\n      <td>3</td>\n      <td>267</td>\n      <td>Number of Institutions Holding Shares</td>\n    </tr>\n  </tbody>\n</table>\n</div>"
     },
     "metadata": {},
     "execution_count": 6
    }
   ],
   "source": [
    "#maiores acionistas\n",
    "ticker.major_holders"
   ]
  },
  {
   "cell_type": "code",
   "execution_count": 7,
   "metadata": {},
   "outputs": [
    {
     "output_type": "execute_result",
     "data": {
      "text/plain": [
       "                                    2020-12-31    2019-12-31    2018-12-31  \\\n",
       "Intangible Assets                 7.755300e+10  7.823700e+10  1.008400e+10   \n",
       "Total Liab                        6.762690e+11  6.268740e+11  5.769300e+11   \n",
       "Total Stockholder Equity          3.084100e+11  2.955410e+11  2.772250e+11   \n",
       "Minority Interest                 2.740000e+09  3.596000e+09  6.318000e+09   \n",
       "Other Current Liab                1.800000e+10  2.943300e+10  3.620900e+10   \n",
       "Total Assets                      9.874190e+11  9.260110e+11  8.604730e+11   \n",
       "Common Stock                      2.054320e+11  2.054320e+11  2.054320e+11   \n",
       "Other Current Assets              1.311100e+10  1.858400e+10  2.058500e+10   \n",
       "Retained Earnings                 1.275120e+11  1.248290e+11  9.536400e+10   \n",
       "Other Liab                        1.987980e+11  2.007050e+11  1.672820e+11   \n",
       "Good Will                         1.250000e+08  2.520000e+08  7.860000e+08   \n",
       "Treasury Stock                   -2.453400e+10 -3.472000e+10 -2.357100e+10   \n",
       "Other Assets                      1.047470e+11  7.107400e+10  8.527300e+10   \n",
       "Cash                              6.085600e+10  2.971400e+10  5.385400e+10   \n",
       "Total Current Liabilities         1.362870e+11  1.161470e+11  9.706800e+10   \n",
       "Deferred Long Term Asset Charges  3.352400e+10  5.593000e+09  1.038400e+10   \n",
       "Short Long Term Debt              2.175100e+10  1.801300e+10  1.420700e+10   \n",
       "Other Stockholder Equity         -2.453400e+10 -3.472000e+10 -2.357100e+10   \n",
       "Property Plant Equipment          6.454340e+11  6.419490e+11  6.098290e+11   \n",
       "Total Current Assets              1.423230e+11  1.121010e+11  1.436060e+11   \n",
       "Long Term Investments             1.723700e+10  2.239800e+10  1.089500e+10   \n",
       "Net Tangible Assets               2.307320e+11  2.170520e+11  2.663550e+11   \n",
       "Short Term Investments            3.424000e+09  3.580000e+09  4.198000e+09   \n",
       "Net Receivables                   3.543200e+10  2.721400e+10  3.014700e+10   \n",
       "Long Term Debt                    2.582870e+11  2.369690e+11  3.119540e+11   \n",
       "Inventory                         2.950000e+10  3.300900e+10  3.482200e+10   \n",
       "Accounts Payable                  3.564500e+10  2.257600e+10  2.451600e+10   \n",
       "\n",
       "                                    2017-12-31  \n",
       "Intangible Assets                 7.020000e+09  \n",
       "Total Liab                        5.619060e+11  \n",
       "Total Stockholder Equity          2.639850e+11  \n",
       "Minority Interest                 5.624000e+09  \n",
       "Other Current Liab                2.080400e+10  \n",
       "Total Assets                      8.315150e+11  \n",
       "Common Stock                      2.054320e+11  \n",
       "Other Current Assets              2.258900e+10  \n",
       "Retained Earnings                 7.736400e+10  \n",
       "Other Liab                        1.411320e+11  \n",
       "Good Will                         7.200000e+08  \n",
       "Treasury Stock                   -1.881100e+10  \n",
       "Other Assets                      7.074400e+10  \n",
       "Cash                              7.449400e+10  \n",
       "Total Current Liabilities         8.253500e+10  \n",
       "Deferred Long Term Asset Charges  1.137300e+10  \n",
       "Short Long Term Debt              2.316000e+10  \n",
       "Other Stockholder Equity         -1.881100e+10  \n",
       "Property Plant Equipment          5.843570e+11  \n",
       "Total Current Assets              1.559090e+11  \n",
       "Long Term Investments             1.276500e+10  \n",
       "Net Tangible Assets               2.562450e+11  \n",
       "Short Term Investments            2.015000e+09  \n",
       "Net Receivables                   2.450800e+10  \n",
       "Long Term Debt                    3.375640e+11  \n",
       "Inventory                         2.808100e+10  \n",
       "Accounts Payable                  1.907700e+10  "
      ],
      "text/html": "<div>\n<style scoped>\n    .dataframe tbody tr th:only-of-type {\n        vertical-align: middle;\n    }\n\n    .dataframe tbody tr th {\n        vertical-align: top;\n    }\n\n    .dataframe thead th {\n        text-align: right;\n    }\n</style>\n<table border=\"1\" class=\"dataframe\">\n  <thead>\n    <tr style=\"text-align: right;\">\n      <th></th>\n      <th>2020-12-31</th>\n      <th>2019-12-31</th>\n      <th>2018-12-31</th>\n      <th>2017-12-31</th>\n    </tr>\n  </thead>\n  <tbody>\n    <tr>\n      <td>Intangible Assets</td>\n      <td>7.755300e+10</td>\n      <td>7.823700e+10</td>\n      <td>1.008400e+10</td>\n      <td>7.020000e+09</td>\n    </tr>\n    <tr>\n      <td>Total Liab</td>\n      <td>6.762690e+11</td>\n      <td>6.268740e+11</td>\n      <td>5.769300e+11</td>\n      <td>5.619060e+11</td>\n    </tr>\n    <tr>\n      <td>Total Stockholder Equity</td>\n      <td>3.084100e+11</td>\n      <td>2.955410e+11</td>\n      <td>2.772250e+11</td>\n      <td>2.639850e+11</td>\n    </tr>\n    <tr>\n      <td>Minority Interest</td>\n      <td>2.740000e+09</td>\n      <td>3.596000e+09</td>\n      <td>6.318000e+09</td>\n      <td>5.624000e+09</td>\n    </tr>\n    <tr>\n      <td>Other Current Liab</td>\n      <td>1.800000e+10</td>\n      <td>2.943300e+10</td>\n      <td>3.620900e+10</td>\n      <td>2.080400e+10</td>\n    </tr>\n    <tr>\n      <td>Total Assets</td>\n      <td>9.874190e+11</td>\n      <td>9.260110e+11</td>\n      <td>8.604730e+11</td>\n      <td>8.315150e+11</td>\n    </tr>\n    <tr>\n      <td>Common Stock</td>\n      <td>2.054320e+11</td>\n      <td>2.054320e+11</td>\n      <td>2.054320e+11</td>\n      <td>2.054320e+11</td>\n    </tr>\n    <tr>\n      <td>Other Current Assets</td>\n      <td>1.311100e+10</td>\n      <td>1.858400e+10</td>\n      <td>2.058500e+10</td>\n      <td>2.258900e+10</td>\n    </tr>\n    <tr>\n      <td>Retained Earnings</td>\n      <td>1.275120e+11</td>\n      <td>1.248290e+11</td>\n      <td>9.536400e+10</td>\n      <td>7.736400e+10</td>\n    </tr>\n    <tr>\n      <td>Other Liab</td>\n      <td>1.987980e+11</td>\n      <td>2.007050e+11</td>\n      <td>1.672820e+11</td>\n      <td>1.411320e+11</td>\n    </tr>\n    <tr>\n      <td>Good Will</td>\n      <td>1.250000e+08</td>\n      <td>2.520000e+08</td>\n      <td>7.860000e+08</td>\n      <td>7.200000e+08</td>\n    </tr>\n    <tr>\n      <td>Treasury Stock</td>\n      <td>-2.453400e+10</td>\n      <td>-3.472000e+10</td>\n      <td>-2.357100e+10</td>\n      <td>-1.881100e+10</td>\n    </tr>\n    <tr>\n      <td>Other Assets</td>\n      <td>1.047470e+11</td>\n      <td>7.107400e+10</td>\n      <td>8.527300e+10</td>\n      <td>7.074400e+10</td>\n    </tr>\n    <tr>\n      <td>Cash</td>\n      <td>6.085600e+10</td>\n      <td>2.971400e+10</td>\n      <td>5.385400e+10</td>\n      <td>7.449400e+10</td>\n    </tr>\n    <tr>\n      <td>Total Current Liabilities</td>\n      <td>1.362870e+11</td>\n      <td>1.161470e+11</td>\n      <td>9.706800e+10</td>\n      <td>8.253500e+10</td>\n    </tr>\n    <tr>\n      <td>Deferred Long Term Asset Charges</td>\n      <td>3.352400e+10</td>\n      <td>5.593000e+09</td>\n      <td>1.038400e+10</td>\n      <td>1.137300e+10</td>\n    </tr>\n    <tr>\n      <td>Short Long Term Debt</td>\n      <td>2.175100e+10</td>\n      <td>1.801300e+10</td>\n      <td>1.420700e+10</td>\n      <td>2.316000e+10</td>\n    </tr>\n    <tr>\n      <td>Other Stockholder Equity</td>\n      <td>-2.453400e+10</td>\n      <td>-3.472000e+10</td>\n      <td>-2.357100e+10</td>\n      <td>-1.881100e+10</td>\n    </tr>\n    <tr>\n      <td>Property Plant Equipment</td>\n      <td>6.454340e+11</td>\n      <td>6.419490e+11</td>\n      <td>6.098290e+11</td>\n      <td>5.843570e+11</td>\n    </tr>\n    <tr>\n      <td>Total Current Assets</td>\n      <td>1.423230e+11</td>\n      <td>1.121010e+11</td>\n      <td>1.436060e+11</td>\n      <td>1.559090e+11</td>\n    </tr>\n    <tr>\n      <td>Long Term Investments</td>\n      <td>1.723700e+10</td>\n      <td>2.239800e+10</td>\n      <td>1.089500e+10</td>\n      <td>1.276500e+10</td>\n    </tr>\n    <tr>\n      <td>Net Tangible Assets</td>\n      <td>2.307320e+11</td>\n      <td>2.170520e+11</td>\n      <td>2.663550e+11</td>\n      <td>2.562450e+11</td>\n    </tr>\n    <tr>\n      <td>Short Term Investments</td>\n      <td>3.424000e+09</td>\n      <td>3.580000e+09</td>\n      <td>4.198000e+09</td>\n      <td>2.015000e+09</td>\n    </tr>\n    <tr>\n      <td>Net Receivables</td>\n      <td>3.543200e+10</td>\n      <td>2.721400e+10</td>\n      <td>3.014700e+10</td>\n      <td>2.450800e+10</td>\n    </tr>\n    <tr>\n      <td>Long Term Debt</td>\n      <td>2.582870e+11</td>\n      <td>2.369690e+11</td>\n      <td>3.119540e+11</td>\n      <td>3.375640e+11</td>\n    </tr>\n    <tr>\n      <td>Inventory</td>\n      <td>2.950000e+10</td>\n      <td>3.300900e+10</td>\n      <td>3.482200e+10</td>\n      <td>2.808100e+10</td>\n    </tr>\n    <tr>\n      <td>Accounts Payable</td>\n      <td>3.564500e+10</td>\n      <td>2.257600e+10</td>\n      <td>2.451600e+10</td>\n      <td>1.907700e+10</td>\n    </tr>\n  </tbody>\n</table>\n</div>"
     },
     "metadata": {},
     "execution_count": 7
    }
   ],
   "source": [
    "#balanço patrimonial:\n",
    "ticker.balance_sheet"
   ]
  },
  {
   "cell_type": "code",
   "execution_count": 8,
   "metadata": {},
   "outputs": [
    {
     "output_type": "execute_result",
     "data": {
      "text/plain": [
       "           Revenue     Earnings\n",
       "Year                           \n",
       "2017  258454000000   -446000000\n",
       "2018  310255000000  25779000000\n",
       "2019  263827000000  40137000000\n",
       "2020  242146000000   7108000000"
      ],
      "text/html": "<div>\n<style scoped>\n    .dataframe tbody tr th:only-of-type {\n        vertical-align: middle;\n    }\n\n    .dataframe tbody tr th {\n        vertical-align: top;\n    }\n\n    .dataframe thead th {\n        text-align: right;\n    }\n</style>\n<table border=\"1\" class=\"dataframe\">\n  <thead>\n    <tr style=\"text-align: right;\">\n      <th></th>\n      <th>Revenue</th>\n      <th>Earnings</th>\n    </tr>\n    <tr>\n      <th>Year</th>\n      <th></th>\n      <th></th>\n    </tr>\n  </thead>\n  <tbody>\n    <tr>\n      <td>2017</td>\n      <td>258454000000</td>\n      <td>-446000000</td>\n    </tr>\n    <tr>\n      <td>2018</td>\n      <td>310255000000</td>\n      <td>25779000000</td>\n    </tr>\n    <tr>\n      <td>2019</td>\n      <td>263827000000</td>\n      <td>40137000000</td>\n    </tr>\n    <tr>\n      <td>2020</td>\n      <td>242146000000</td>\n      <td>7108000000</td>\n    </tr>\n  </tbody>\n</table>\n</div>"
     },
     "metadata": {},
     "execution_count": 8
    }
   ],
   "source": [
    "#receita da empresa:\n",
    "ticker.earnings"
   ]
  },
  {
   "cell_type": "code",
   "execution_count": null,
   "metadata": {},
   "outputs": [],
   "source": []
  }
 ],
 "metadata": {
  "kernelspec": {
   "name": "python374jvsc74a57bd0be8971a3a946e1d8aad7367212283399e75af9b51513b0af380fc3ec7c5712f5",
   "display_name": "Python 3.7.4 64-bit ('base': conda)"
  },
  "language_info": {
   "codemirror_mode": {
    "name": "ipython",
    "version": 3
   },
   "file_extension": ".py",
   "mimetype": "text/x-python",
   "name": "python",
   "nbconvert_exporter": "python",
   "pygments_lexer": "ipython3",
   "version": "3.7.4"
  }
 },
 "nbformat": 4,
 "nbformat_minor": 2
}