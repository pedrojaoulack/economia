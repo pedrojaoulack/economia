{
 "cells": [
  {
   "cell_type": "code",
   "execution_count": 1,
   "metadata": {},
   "outputs": [],
   "source": [
    "#Bibliotecas Necessárias:\n",
    "import requests\n",
    "import pandas as pd"
   ]
  },
  {
   "cell_type": "code",
   "execution_count": 2,
   "metadata": {},
   "outputs": [],
   "source": [
    "def fazer_request (url):\n",
    "    \"\"\"\n",
    "    Descr: \n",
    "        Faz o request ao servidor, verifica se obteve uma resposta com sucesso (código 200).\n",
    "    Parâmetros: \n",
    "        url: é a url que deve ser passada para fazer o request ao servidor\n",
    "    Retorno: \n",
    "        Retorna uma lista com 2 valores, o primeiro é o request_com_sucesso que será True ou False\n",
    "        e o segundo será o output do arquivo que pode ser null ou conter o output.\n",
    "    \"\"\"\n",
    "    #fazendo a requisição:\n",
    "    resposta_inicial = requests.get(url)\n",
    "\n",
    "    #filtrando a resposta da requisição para ficar apenas com o código:\n",
    "    resposta = str(resposta_inicial).split('[')[1]\n",
    "    resposta = resposta.split(']')[0]\n",
    "\n",
    "    output_fazer_request = dict()\n",
    "    if(resposta == '200'): #-->verificando se a requisição foi bem sucedida.\n",
    "        output_fazer_request[\"Request_com_Sucesso\"] = True\n",
    "        output_fazer_request[\"Conteudo\"] = resposta_inicial.json()\n",
    "        print('Request feito com sucesso!')\n",
    "        return output_fazer_request\n",
    "    else:\n",
    "        output_fazer_request[\"Request_com_Sucesso\"] = False\n",
    "        output_fazer_request[\"Conteudo\"] = 'null'\n",
    "        print('Ops! Algo deu errado com o request.')\n",
    "        return output_fazer_request"
   ]
  },
  {
   "cell_type": "code",
   "execution_count": 3,
   "metadata": {},
   "outputs": [
    {
     "name": "stdout",
     "output_type": "stream",
     "text": [
      "Request feito com sucesso!\n"
     ]
    }
   ],
   "source": [
    "#url genéricas:\n",
    "url_agregados = \"https://servicodados.ibge.gov.br/api/v3/agregados\"\n",
    "url_localidades_por_agregado = \"https://servicodados.ibge.gov.br/api/v3/agregados/{agregado}/localidades/{nivel}\"\n",
    "url_metadados = \"https://servicodados.ibge.gov.br/api/v3/agregados/{agregado}/metadados\"\n",
    "url_periodo_por_agregado = \"https://servicodados.ibge.gov.br/api/v3/agregados/{agregado}/periodos\"\n",
    "url_variavel_por_agregado_periodo_e_identificador_da_variavel = \"https://servicodados.ibge.gov.br/api/v3/agregados/{agregado}/periodos/{periodos}/variaveis/{variavel}\"\n",
    "url_por_agregado_e_identificador_da_variavel = \"https://servicodados.ibge.gov.br/api/v3/agregados/{agregado}/variaveis/{variavel}\"\n",
    "\n",
    "resultado = fazer_request (url=url_agregados)"
   ]
  },
  {
   "cell_type": "code",
   "execution_count": 4,
   "metadata": {},
   "outputs": [],
   "source": [
    "lista_id = list()\n",
    "lista_nome = list()\n",
    "lista_id_agregado = list()\n",
    "lista_nome_agregado = list()\n",
    "for x in resultado['Conteudo']:\n",
    "    #print(\"o id \" + str(x['id']) + \" tem o nome \" + str(x['nome']) + \" tem os agregados \" + str(x['agregados']))\n",
    "    #print('==================================================================================================================================')\n",
    "    #print('==================================================================================================================================')\n",
    "    #print('')\n",
    "    #print('==================================================================================================================================')\n",
    "    #print('==================================================================================================================================')\n",
    "    #print('==================================================================================================================================')\n",
    "    for agregado in x['agregados']:\n",
    "        lista_id.append(str(x['id']))\n",
    "        lista_nome.append(str(x['nome']))\n",
    "        lista_id_agregado.append(str(agregado['id']))\n",
    "        lista_nome_agregado.append(str(agregado['nome']))\n",
    "        #print('id_agregado ' + str(agregado['id']) + ' nome_agregado ' + str(agregado['nome']))"
   ]
  },
  {
   "cell_type": "code",
   "execution_count": 5,
   "metadata": {},
   "outputs": [],
   "source": [
    "df_dados_ibge = pd.DataFrame(\n",
    "    list(zip(lista_id,lista_nome,lista_id_agregado,lista_nome_agregado)),\n",
    "    columns=['ID','NOME','ID_AGREGADO','NOME_AGREGADO']\n",
    ")"
   ]
  },
  {
   "cell_type": "code",
   "execution_count": 8,
   "metadata": {},
   "outputs": [
    {
     "data": {
      "text/html": [
       "<div>\n",
       "<style scoped>\n",
       "    .dataframe tbody tr th:only-of-type {\n",
       "        vertical-align: middle;\n",
       "    }\n",
       "\n",
       "    .dataframe tbody tr th {\n",
       "        vertical-align: top;\n",
       "    }\n",
       "\n",
       "    .dataframe thead th {\n",
       "        text-align: right;\n",
       "    }\n",
       "</style>\n",
       "<table border=\"1\" class=\"dataframe\">\n",
       "  <thead>\n",
       "    <tr style=\"text-align: right;\">\n",
       "      <th></th>\n",
       "      <th>ID_AGREGADO</th>\n",
       "      <th>NOME_AGREGADO</th>\n",
       "    </tr>\n",
       "  </thead>\n",
       "  <tbody>\n",
       "    <tr>\n",
       "      <td>1280</td>\n",
       "      <td>3960</td>\n",
       "      <td>Número médio de horas habitualmente trabalhada...</td>\n",
       "    </tr>\n",
       "    <tr>\n",
       "      <td>5386</td>\n",
       "      <td>5452</td>\n",
       "      <td>Pessoas que ficaram internadas em hospitais po...</td>\n",
       "    </tr>\n",
       "    <tr>\n",
       "      <td>5025</td>\n",
       "      <td>5365</td>\n",
       "      <td>Pessoas de 18 anos ou mais de idade que sofrer...</td>\n",
       "    </tr>\n",
       "    <tr>\n",
       "      <td>4201</td>\n",
       "      <td>8116</td>\n",
       "      <td>Pessoas de 15 anos ou mais de idade, ocupadas ...</td>\n",
       "    </tr>\n",
       "    <tr>\n",
       "      <td>1562</td>\n",
       "      <td>2979</td>\n",
       "      <td>Pessoas de 7 anos ou mais de idade por grupos ...</td>\n",
       "    </tr>\n",
       "    <tr>\n",
       "      <td>2885</td>\n",
       "      <td>6973</td>\n",
       "      <td>Despesa monetária e não monetária média mensal...</td>\n",
       "    </tr>\n",
       "    <tr>\n",
       "      <td>208</td>\n",
       "      <td>1018</td>\n",
       "      <td>Número de estabelecimentos agropecuários com p...</td>\n",
       "    </tr>\n",
       "    <tr>\n",
       "      <td>1897</td>\n",
       "      <td>6394</td>\n",
       "      <td>Estimativas das emissões líquidas de gases de ...</td>\n",
       "    </tr>\n",
       "    <tr>\n",
       "      <td>6522</td>\n",
       "      <td>7209</td>\n",
       "      <td>Estudantes de 14 anos ou mais de idade no ensi...</td>\n",
       "    </tr>\n",
       "    <tr>\n",
       "      <td>1483</td>\n",
       "      <td>1381</td>\n",
       "      <td>Pessoas de 10 anos ou mais de idade, total e c...</td>\n",
       "    </tr>\n",
       "    <tr>\n",
       "      <td>2735</td>\n",
       "      <td>8437</td>\n",
       "      <td>Municípios com Conselho Municipal nas áreas de...</td>\n",
       "    </tr>\n",
       "    <tr>\n",
       "      <td>3540</td>\n",
       "      <td>2339</td>\n",
       "      <td>Número de municípios que coletam e/ou recebem ...</td>\n",
       "    </tr>\n",
       "    <tr>\n",
       "      <td>1322</td>\n",
       "      <td>1990</td>\n",
       "      <td>Pessoas de 10 anos ou mais de idade ocupadas n...</td>\n",
       "    </tr>\n",
       "    <tr>\n",
       "      <td>4582</td>\n",
       "      <td>4589</td>\n",
       "      <td>Pessoas de 18 anos ou mais de idade que refere...</td>\n",
       "    </tr>\n",
       "    <tr>\n",
       "      <td>4796</td>\n",
       "      <td>7825</td>\n",
       "      <td>Pessoas de 18 anos ou mais de idade que refere...</td>\n",
       "    </tr>\n",
       "  </tbody>\n",
       "</table>\n",
       "</div>"
      ],
      "text/plain": [
       "     ID_AGREGADO                                      NOME_AGREGADO\n",
       "1280        3960  Número médio de horas habitualmente trabalhada...\n",
       "5386        5452  Pessoas que ficaram internadas em hospitais po...\n",
       "5025        5365  Pessoas de 18 anos ou mais de idade que sofrer...\n",
       "4201        8116  Pessoas de 15 anos ou mais de idade, ocupadas ...\n",
       "1562        2979  Pessoas de 7 anos ou mais de idade por grupos ...\n",
       "2885        6973  Despesa monetária e não monetária média mensal...\n",
       "208         1018  Número de estabelecimentos agropecuários com p...\n",
       "1897        6394  Estimativas das emissões líquidas de gases de ...\n",
       "6522        7209  Estudantes de 14 anos ou mais de idade no ensi...\n",
       "1483        1381  Pessoas de 10 anos ou mais de idade, total e c...\n",
       "2735        8437  Municípios com Conselho Municipal nas áreas de...\n",
       "3540        2339  Número de municípios que coletam e/ou recebem ...\n",
       "1322        1990  Pessoas de 10 anos ou mais de idade ocupadas n...\n",
       "4582        4589  Pessoas de 18 anos ou mais de idade que refere...\n",
       "4796        7825  Pessoas de 18 anos ou mais de idade que refere..."
      ]
     },
     "metadata": {},
     "output_type": "display_data"
    }
   ],
   "source": [
    "#print(df_dados_ibge.iloc[100].NOME_AGREGADO, df_dados_ibge.iloc[100].ID_AGREGADO)\n",
    "display(df_dados_ibge.sample(15)[[\"ID_AGREGADO\", \"NOME_AGREGADO\"]])"
   ]
  },
  {
   "cell_type": "code",
   "execution_count": 22,
   "metadata": {},
   "outputs": [
    {
     "name": "stdout",
     "output_type": "stream",
     "text": [
      "Request feito com sucesso!\n"
     ]
    }
   ],
   "source": [
    "url_metadados = \"https://servicodados.ibge.gov.br/api/v3/agregados/6691/periodos/202201|202202|202203|202204|202205|202206|202207/variaveis/63?localidades=N1[all]\"\n",
    "resultado2 = fazer_request(url_metadados)"
   ]
  },
  {
   "cell_type": "code",
   "execution_count": 23,
   "metadata": {},
   "outputs": [
    {
     "data": {
      "text/plain": [
       "[{'id': '63',\n",
       "  'variavel': 'IPCA - Variação mensal',\n",
       "  'unidade': '%',\n",
       "  'resultados': [{'classificacoes': [],\n",
       "    'series': [{'localidade': {'id': '1',\n",
       "       'nivel': {'id': 'N1', 'nome': 'Brasil'},\n",
       "       'nome': 'Brasil'},\n",
       "      'serie': {'202201': '0.54',\n",
       "       '202202': '1.01',\n",
       "       '202203': '1.62',\n",
       "       '202204': '1.06',\n",
       "       '202205': '0.47',\n",
       "       '202206': '0.67',\n",
       "       '202207': '-0.68'}}]}]}]"
      ]
     },
     "execution_count": 23,
     "metadata": {},
     "output_type": "execute_result"
    }
   ],
   "source": [
    "resultado2['Conteudo']"
   ]
  },
  {
   "cell_type": "code",
   "execution_count": null,
   "metadata": {},
   "outputs": [],
   "source": []
  }
 ],
 "metadata": {
  "kernelspec": {
   "display_name": "Python 3.7.4 ('base')",
   "language": "python",
   "name": "python3"
  },
  "language_info": {
   "codemirror_mode": {
    "name": "ipython",
    "version": 3
   },
   "file_extension": ".py",
   "mimetype": "text/x-python",
   "name": "python",
   "nbconvert_exporter": "python",
   "pygments_lexer": "ipython3",
   "version": "3.7.4"
  },
  "orig_nbformat": 4,
  "vscode": {
   "interpreter": {
    "hash": "ea4e35c47d91764ef4d6644e9c5f3fbb8ee8833ee53d2374686d16cf48aa89e6"
   }
  }
 },
 "nbformat": 4,
 "nbformat_minor": 2
}
