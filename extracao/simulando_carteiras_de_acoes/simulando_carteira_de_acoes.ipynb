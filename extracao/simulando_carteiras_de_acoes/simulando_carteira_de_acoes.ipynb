{
 "cells": [
  {
   "source": [
    "# Vamos ver como simular uma carteira aleatória de ações a partir de uma base de dados com tickers da b3:"
   ],
   "cell_type": "markdown",
   "metadata": {}
  },
  {
   "cell_type": "code",
   "execution_count": 1,
   "metadata": {},
   "outputs": [],
   "source": [
    "#Bibliotecas Necessárias:\n",
    "import pandas as pd\n",
    "import numpy as np\n",
    "import random\n",
    "import yfinance as yf\n",
    "import plotly.express as px"
   ]
  },
  {
   "source": [
    "### Lendo os dados da planilha:"
   ],
   "cell_type": "markdown",
   "metadata": {}
  },
  {
   "cell_type": "code",
   "execution_count": 3,
   "metadata": {},
   "outputs": [
    {
     "output_type": "execute_result",
     "data": {
      "text/plain": [
       "    Ticker          Ação        Tipo  Qtde. Teórica  Part. (%)  \\\n",
       "0    RRRP3  3R PETROLEUM  ON      NM      129507288      0.185   \n",
       "1    ABCB4    ABC BRASIL  PN      N2       70580422      0.037   \n",
       "2    AERI3         AERIS  ON      NM      218058827      0.068   \n",
       "3    AESB3    AES BRASIL  ON      NM      149647285      0.078   \n",
       "4    ALSO3  ALIANSCSONAE  ON  ED  NM      127376805      0.126   \n",
       "..     ...           ...         ...            ...        ...   \n",
       "175  VIVA3   VIVARA S.A.  ON  ED  NM       93368726      0.087   \n",
       "176  VULC3     VULCABRAS  ON      NM       74685291      0.022   \n",
       "177  WEGE3           WEG  ON      NM     1482296002      1.753   \n",
       "178  WIZS3      WIZ S.A.  ON      NM       77719799      0.031   \n",
       "179  YDUQ3    YDUQS PART  ON  ED  NM      300483575      0.304   \n",
       "\n",
       "                  Setor                       Sub_Setor  \n",
       "0                Energy                   Oil & Gas E&P  \n",
       "1    Financial Services                  Banks—Regional  \n",
       "2           Industrials  Specialty Industrial Machinery  \n",
       "3             Utilities             Utilities—Renewable  \n",
       "4           Real Estate            Real Estate Services  \n",
       "..                  ...                             ...  \n",
       "175   Consumer Cyclical                    Luxury Goods  \n",
       "176   Consumer Cyclical          Footwear & Accessories  \n",
       "177         Industrials  Specialty Industrial Machinery  \n",
       "178  Financial Services               Insurance Brokers  \n",
       "179  Consumer Defensive   Education & Training Services  \n",
       "\n",
       "[180 rows x 7 columns]"
      ],
      "text/html": "<div>\n<style scoped>\n    .dataframe tbody tr th:only-of-type {\n        vertical-align: middle;\n    }\n\n    .dataframe tbody tr th {\n        vertical-align: top;\n    }\n\n    .dataframe thead th {\n        text-align: right;\n    }\n</style>\n<table border=\"1\" class=\"dataframe\">\n  <thead>\n    <tr style=\"text-align: right;\">\n      <th></th>\n      <th>Ticker</th>\n      <th>Ação</th>\n      <th>Tipo</th>\n      <th>Qtde. Teórica</th>\n      <th>Part. (%)</th>\n      <th>Setor</th>\n      <th>Sub_Setor</th>\n    </tr>\n  </thead>\n  <tbody>\n    <tr>\n      <td>0</td>\n      <td>RRRP3</td>\n      <td>3R PETROLEUM</td>\n      <td>ON      NM</td>\n      <td>129507288</td>\n      <td>0.185</td>\n      <td>Energy</td>\n      <td>Oil &amp; Gas E&amp;P</td>\n    </tr>\n    <tr>\n      <td>1</td>\n      <td>ABCB4</td>\n      <td>ABC BRASIL</td>\n      <td>PN      N2</td>\n      <td>70580422</td>\n      <td>0.037</td>\n      <td>Financial Services</td>\n      <td>Banks—Regional</td>\n    </tr>\n    <tr>\n      <td>2</td>\n      <td>AERI3</td>\n      <td>AERIS</td>\n      <td>ON      NM</td>\n      <td>218058827</td>\n      <td>0.068</td>\n      <td>Industrials</td>\n      <td>Specialty Industrial Machinery</td>\n    </tr>\n    <tr>\n      <td>3</td>\n      <td>AESB3</td>\n      <td>AES BRASIL</td>\n      <td>ON      NM</td>\n      <td>149647285</td>\n      <td>0.078</td>\n      <td>Utilities</td>\n      <td>Utilities—Renewable</td>\n    </tr>\n    <tr>\n      <td>4</td>\n      <td>ALSO3</td>\n      <td>ALIANSCSONAE</td>\n      <td>ON  ED  NM</td>\n      <td>127376805</td>\n      <td>0.126</td>\n      <td>Real Estate</td>\n      <td>Real Estate Services</td>\n    </tr>\n    <tr>\n      <td>...</td>\n      <td>...</td>\n      <td>...</td>\n      <td>...</td>\n      <td>...</td>\n      <td>...</td>\n      <td>...</td>\n      <td>...</td>\n    </tr>\n    <tr>\n      <td>175</td>\n      <td>VIVA3</td>\n      <td>VIVARA S.A.</td>\n      <td>ON  ED  NM</td>\n      <td>93368726</td>\n      <td>0.087</td>\n      <td>Consumer Cyclical</td>\n      <td>Luxury Goods</td>\n    </tr>\n    <tr>\n      <td>176</td>\n      <td>VULC3</td>\n      <td>VULCABRAS</td>\n      <td>ON      NM</td>\n      <td>74685291</td>\n      <td>0.022</td>\n      <td>Consumer Cyclical</td>\n      <td>Footwear &amp; Accessories</td>\n    </tr>\n    <tr>\n      <td>177</td>\n      <td>WEGE3</td>\n      <td>WEG</td>\n      <td>ON      NM</td>\n      <td>1482296002</td>\n      <td>1.753</td>\n      <td>Industrials</td>\n      <td>Specialty Industrial Machinery</td>\n    </tr>\n    <tr>\n      <td>178</td>\n      <td>WIZS3</td>\n      <td>WIZ S.A.</td>\n      <td>ON      NM</td>\n      <td>77719799</td>\n      <td>0.031</td>\n      <td>Financial Services</td>\n      <td>Insurance Brokers</td>\n    </tr>\n    <tr>\n      <td>179</td>\n      <td>YDUQ3</td>\n      <td>YDUQS PART</td>\n      <td>ON  ED  NM</td>\n      <td>300483575</td>\n      <td>0.304</td>\n      <td>Consumer Defensive</td>\n      <td>Education &amp; Training Services</td>\n    </tr>\n  </tbody>\n</table>\n<p>180 rows × 7 columns</p>\n</div>"
     },
     "metadata": {},
     "execution_count": 3
    }
   ],
   "source": [
    "base_de_dados = pd.read_excel('indice_Amplo_Ibov.xlsx', sheet_name=0)\n",
    "base_de_dados"
   ]
  },
  {
   "source": [
    "### Vamos selecionar a coluna dos tickers:"
   ],
   "cell_type": "markdown",
   "metadata": {}
  },
  {
   "cell_type": "code",
   "execution_count": 13,
   "metadata": {},
   "outputs": [
    {
     "output_type": "execute_result",
     "data": {
      "text/plain": [
       "       Ticker\n",
       "0    RRRP3.SA\n",
       "1    ABCB4.SA\n",
       "2    AERI3.SA\n",
       "3    AESB3.SA\n",
       "4    ALSO3.SA\n",
       "..        ...\n",
       "175  VIVA3.SA\n",
       "176  VULC3.SA\n",
       "177  WEGE3.SA\n",
       "178  WIZS3.SA\n",
       "179  YDUQ3.SA\n",
       "\n",
       "[180 rows x 1 columns]"
      ],
      "text/html": "<div>\n<style scoped>\n    .dataframe tbody tr th:only-of-type {\n        vertical-align: middle;\n    }\n\n    .dataframe tbody tr th {\n        vertical-align: top;\n    }\n\n    .dataframe thead th {\n        text-align: right;\n    }\n</style>\n<table border=\"1\" class=\"dataframe\">\n  <thead>\n    <tr style=\"text-align: right;\">\n      <th></th>\n      <th>Ticker</th>\n    </tr>\n  </thead>\n  <tbody>\n    <tr>\n      <td>0</td>\n      <td>RRRP3.SA</td>\n    </tr>\n    <tr>\n      <td>1</td>\n      <td>ABCB4.SA</td>\n    </tr>\n    <tr>\n      <td>2</td>\n      <td>AERI3.SA</td>\n    </tr>\n    <tr>\n      <td>3</td>\n      <td>AESB3.SA</td>\n    </tr>\n    <tr>\n      <td>4</td>\n      <td>ALSO3.SA</td>\n    </tr>\n    <tr>\n      <td>...</td>\n      <td>...</td>\n    </tr>\n    <tr>\n      <td>175</td>\n      <td>VIVA3.SA</td>\n    </tr>\n    <tr>\n      <td>176</td>\n      <td>VULC3.SA</td>\n    </tr>\n    <tr>\n      <td>177</td>\n      <td>WEGE3.SA</td>\n    </tr>\n    <tr>\n      <td>178</td>\n      <td>WIZS3.SA</td>\n    </tr>\n    <tr>\n      <td>179</td>\n      <td>YDUQ3.SA</td>\n    </tr>\n  </tbody>\n</table>\n<p>180 rows × 1 columns</p>\n</div>"
     },
     "metadata": {},
     "execution_count": 13
    }
   ],
   "source": [
    "acoes = base_de_dados.filter(items=['Ticker'])\n",
    "acoes = acoes + '.SA'\n",
    "acoes"
   ]
  },
  {
   "source": [
    "### vamos pegar o preço de fechamento dessas ações da coluna anterior:"
   ],
   "cell_type": "markdown",
   "metadata": {}
  },
  {
   "cell_type": "code",
   "execution_count": 24,
   "metadata": {},
   "outputs": [
    {
     "output_type": "stream",
     "name": "stdout",
     "text": [
      "[*********************100%***********************]  180 of 180 completed\n",
      "            AALR3.SA   ABCB4.SA   ABEV3.SA  AERI3.SA  AESB3.SA   AGRO3.SA  \\\n",
      "Date                                                                        \n",
      "2020-05-11      8.66  11.491520  11.577252       NaN       NaN  20.041254   \n",
      "2020-05-12      8.40  11.255069  11.363937       NaN       NaN  19.789528   \n",
      "2020-05-13      8.39  11.349649  10.917912       NaN       NaN  19.460348   \n",
      "2020-05-14      8.44  11.141572  11.383329       NaN       NaN  19.392576   \n",
      "2020-05-15      8.70  11.056450  11.286368       NaN       NaN  19.808889   \n",
      "...              ...        ...        ...       ...       ...        ...   \n",
      "2021-05-04      9.04  14.780000  14.640000      8.60     14.41  34.250000   \n",
      "2021-05-05      9.13  14.800000  14.860000      8.30     14.61  36.130001   \n",
      "2021-05-06      8.91  14.830000  16.180000      8.60     14.70  35.169998   \n",
      "2021-05-07      8.93  14.800000  16.209999      8.79     14.65  34.900002   \n",
      "2021-05-10      8.95  14.890000  16.620001      8.52     14.37  34.180000   \n",
      "\n",
      "             ALPA4.SA   ALSO3.SA  ALUP11.SA  AMAR3.SA  ...   USIM5.SA  \\\n",
      "Date                                                   ...              \n",
      "2020-05-11  24.760000  21.765604  21.401581      5.36  ...   4.732604   \n",
      "2020-05-12  26.010000  21.716022  21.343477      4.94  ...   4.563582   \n",
      "2020-05-13  24.070000  21.825098  21.653364      4.58  ...   4.324964   \n",
      "2020-05-14  23.590000  22.191990  21.798624      4.88  ...   4.523813   \n",
      "2020-05-15  22.150000  21.101233  22.031038      4.79  ...   4.484043   \n",
      "...               ...        ...        ...       ...  ...        ...   \n",
      "2021-05-04  45.189999  26.290001  26.670000      5.34  ...  21.920000   \n",
      "2021-05-05  47.270000  26.660000  26.990000      5.70  ...  22.900000   \n",
      "2021-05-06  46.619999  27.110001  26.910000      5.68  ...  23.570000   \n",
      "2021-05-07  46.939999  28.020000  27.040001      6.06  ...  23.139999   \n",
      "2021-05-10  45.619999  28.299999  26.650000      6.03  ...  23.620001   \n",
      "\n",
      "              VALE3.SA   VIVA3.SA   VIVT3.SA   VLID3.SA  VULC3.SA  VVAR3.SA  \\\n",
      "Date                                                                          \n",
      "2020-05-11   43.839848  16.304344  43.058098   7.759958      3.85      8.88   \n",
      "2020-05-12   43.591850  15.409594  42.466137   7.750085      3.68      8.55   \n",
      "2020-05-13   44.583828  15.081519  42.985241   7.305813      3.74      9.14   \n",
      "2020-05-14   44.170502  15.459302  43.240238   7.325558      3.90      9.02   \n",
      "2020-05-15   44.133762  14.922451  41.983463   7.207086      3.69      8.68   \n",
      "...                ...        ...        ...        ...       ...       ...   \n",
      "2021-05-04  110.099998  25.760000  42.759998   9.580000      7.69     11.94   \n",
      "2021-05-05  110.709999  25.100000  43.000000   9.930000      7.81     12.10   \n",
      "2021-05-06  115.050003  25.440001  43.320000   9.630000      8.02     11.96   \n",
      "2021-05-07  115.250000  26.270000  43.529999   9.900000      8.38     12.16   \n",
      "2021-05-10  116.290001  26.250000  43.889999  10.150000      8.24     11.95   \n",
      "\n",
      "             WEGE3.SA   WIZS3.SA   YDUQ3.SA  \n",
      "Date                                         \n",
      "2020-05-11  19.247561   6.848436  25.404554  \n",
      "2020-05-12  18.588291   6.578593  24.262777  \n",
      "2020-05-13  18.836136   6.597203  23.406445  \n",
      "2020-05-14  18.513939   6.755387  23.741104  \n",
      "2020-05-15  18.047993   6.643727  23.435972  \n",
      "...               ...        ...        ...  \n",
      "2021-05-04  33.700001  11.500000  28.770000  \n",
      "2021-05-05  34.709999  11.290000  29.070000  \n",
      "2021-05-06  33.730000  11.270000  28.389999  \n",
      "2021-05-07  33.419998  11.430000  28.610001  \n",
      "2021-05-10  32.380001  10.920000  28.520000  \n",
      "\n",
      "[247 rows x 180 columns]\n"
     ]
    }
   ],
   "source": [
    "#o yfinance apenas aceita strings ou listas nesse comando, então vamos converter o dataframe em uma lista:\n",
    "lista_acoes = acoes['Ticker'].tolist()\n",
    "dados_yahoo = yf.download(tickers=lista_acoes, period='1y')['Adj Close'] # -->aqui estamos pegando os dados de preço de fechamento ajustado do ultimo ano de todas as ações da lista anterior\n",
    "print(dados_yahoo)"
   ]
  },
  {
   "source": [
    "### agora vamos tratar os dados da coluna da seguinte forma:\n",
    "#### 1) vamos retirar os dados sem resultados ou em branco:\n",
    "#### 2) vamos criar uma tabela de retorno que tenha a variação em % de todas as ações\n",
    "#### 3) selecionar as ações aleatórias:"
   ],
   "cell_type": "markdown",
   "metadata": {}
  },
  {
   "cell_type": "code",
   "execution_count": 26,
   "metadata": {},
   "outputs": [
    {
     "output_type": "stream",
     "name": "stdout",
     "text": [
      "            AALR3.SA   ABCB4.SA   ABEV3.SA   AGRO3.SA   ALPA4.SA   ALSO3.SA  \\\nDate                                                                          \n2020-05-11      8.66  11.491520  11.577252  20.041254  24.760000  21.765604   \n2020-05-12      8.40  11.255069  11.363937  19.789528  26.010000  21.716022   \n2020-05-13      8.39  11.349649  10.917912  19.460348  24.070000  21.825098   \n2020-05-14      8.44  11.141572  11.383329  19.392576  23.590000  22.191990   \n2020-05-15      8.70  11.056450  11.286368  19.808889  22.150000  21.101233   \n...              ...        ...        ...        ...        ...        ...   \n2021-05-04      9.04  14.780000  14.640000  34.250000  45.189999  26.290001   \n2021-05-05      9.13  14.800000  14.860000  36.130001  47.270000  26.660000   \n2021-05-06      8.91  14.830000  16.180000  35.169998  46.619999  27.110001   \n2021-05-07      8.93  14.800000  16.209999  34.900002  46.939999  28.020000   \n2021-05-10      8.95  14.890000  16.620001  34.180000  45.619999  28.299999   \n\n            ALUP11.SA  AMAR3.SA   ANIM3.SA   ARZZ3.SA  ...   USIM5.SA  \\\nDate                                                   ...              \n2020-05-11  21.401581      5.36   6.413333  41.924397  ...   4.732604   \n2020-05-12  21.343477      4.94   6.116666  40.090824  ...   4.563582   \n2020-05-13  21.653364      4.58   5.950000  39.040234  ...   4.324964   \n2020-05-14  21.798624      4.88   6.100000  37.989651  ...   4.523813   \n2020-05-15  22.031038      4.79   6.300000  38.405914  ...   4.484043   \n...               ...       ...        ...        ...  ...        ...   \n2021-05-04  26.670000      5.34  10.900000  76.000000  ...  21.920000   \n2021-05-05  26.990000      5.70  11.300000  79.449997  ...  22.900000   \n2021-05-06  26.910000      5.68  11.280000  80.000000  ...  23.570000   \n2021-05-07  27.040001      6.06  11.710000  81.089996  ...  23.139999   \n2021-05-10  26.650000      6.03  11.420000  81.570000  ...  23.620001   \n\n              VALE3.SA   VIVA3.SA   VIVT3.SA   VLID3.SA  VULC3.SA  VVAR3.SA  \\\nDate                                                                          \n2020-05-11   43.839848  16.304344  43.058098   7.759958      3.85      8.88   \n2020-05-12   43.591850  15.409594  42.466137   7.750085      3.68      8.55   \n2020-05-13   44.583828  15.081519  42.985241   7.305813      3.74      9.14   \n2020-05-14   44.170502  15.459302  43.240238   7.325558      3.90      9.02   \n2020-05-15   44.133762  14.922451  41.983463   7.207086      3.69      8.68   \n...                ...        ...        ...        ...       ...       ...   \n2021-05-04  110.099998  25.760000  42.759998   9.580000      7.69     11.94   \n2021-05-05  110.709999  25.100000  43.000000   9.930000      7.81     12.10   \n2021-05-06  115.050003  25.440001  43.320000   9.630000      8.02     11.96   \n2021-05-07  115.250000  26.270000  43.529999   9.900000      8.38     12.16   \n2021-05-10  116.290001  26.250000  43.889999  10.150000      8.24     11.95   \n\n             WEGE3.SA   WIZS3.SA   YDUQ3.SA  \nDate                                         \n2020-05-11  19.247561   6.848436  25.404554  \n2020-05-12  18.588291   6.578593  24.262777  \n2020-05-13  18.836136   6.597203  23.406445  \n2020-05-14  18.513939   6.755387  23.741104  \n2020-05-15  18.047993   6.643727  23.435972  \n...               ...        ...        ...  \n2021-05-04  33.700001  11.500000  28.770000  \n2021-05-05  34.709999  11.290000  29.070000  \n2021-05-06  33.730000  11.270000  28.389999  \n2021-05-07  33.419998  11.430000  28.610001  \n2021-05-10  32.380001  10.920000  28.520000  \n\n[246 rows x 162 columns]\n"
     ]
    }
   ],
   "source": [
    "# fazendo a 1) parte:\n",
    "dados_yahoo.dropna(how='all', inplace=True)\n",
    "dados_yahoo.dropna(axis=1, inplace=True, thresh=246)\n",
    "print(dados_yahoo)"
   ]
  },
  {
   "cell_type": "code",
   "execution_count": 35,
   "metadata": {},
   "outputs": [
    {
     "output_type": "execute_result",
     "data": {
      "text/plain": [
       "            AALR3.SA  ABCB4.SA  ABEV3.SA  AGRO3.SA  ALPA4.SA  ALSO3.SA  \\\n",
       "Date                                                                     \n",
       "2020-05-11  1.000000  1.000000  1.000000  1.000000  1.000000  1.000000   \n",
       "2020-05-12  0.969977  0.979424  0.981575  0.987440  1.050485  0.997722   \n",
       "2020-05-13  0.968822  0.987654  0.943049  0.971014  0.972132  1.002733   \n",
       "2020-05-14  0.974596  0.969547  0.983250  0.967633  0.952746  1.019590   \n",
       "2020-05-15  1.004619  0.962140  0.974875  0.988406  0.894588  0.969476   \n",
       "...              ...       ...       ...       ...       ...       ...   \n",
       "2021-05-04  1.043880  1.286166  1.264549  1.708975  1.825121  1.207869   \n",
       "2021-05-05  1.054273  1.287906  1.283551  1.802781  1.909128  1.224868   \n",
       "2021-05-06  1.028868  1.290517  1.397568  1.754880  1.882876  1.245543   \n",
       "2021-05-07  1.031178  1.287906  1.400159  1.741408  1.895800  1.287352   \n",
       "2021-05-10  1.033487  1.295738  1.435574  1.705482  1.842488  1.300217   \n",
       "\n",
       "            ALUP11.SA  AMAR3.SA  ANIM3.SA  ARZZ3.SA  ...  USIM5.SA  VALE3.SA  \\\n",
       "Date                                                 ...                       \n",
       "2020-05-11   1.000000  1.000000  1.000000  1.000000  ...  1.000000  1.000000   \n",
       "2020-05-12   0.997285  0.921642  0.953742  0.956265  ...  0.964286  0.994343   \n",
       "2020-05-13   1.011765  0.854478  0.927755  0.931206  ...  0.913866  1.016970   \n",
       "2020-05-14   1.018552  0.910448  0.951143  0.906147  ...  0.955882  1.007542   \n",
       "2020-05-15   1.029412  0.893657  0.982329  0.916076  ...  0.947479  1.006704   \n",
       "...               ...       ...       ...       ...  ...       ...       ...   \n",
       "2021-05-04   1.246170  0.996269  1.699584  1.812787  ...  4.631700  2.511414   \n",
       "2021-05-05   1.261122  1.063433  1.761954  1.895078  ...  4.838774  2.525328   \n",
       "2021-05-06   1.257384  1.059701  1.758836  1.908197  ...  4.980345  2.624325   \n",
       "2021-05-07   1.263458  1.130597  1.825884  1.934196  ...  4.889486  2.628887   \n",
       "2021-05-10   1.245235  1.125000  1.780665  1.945645  ...  4.990910  2.652610   \n",
       "\n",
       "            VIVA3.SA  VIVT3.SA  VLID3.SA  VULC3.SA  VVAR3.SA  WEGE3.SA  \\\n",
       "Date                                                                     \n",
       "2020-05-11  1.000000  1.000000  1.000000  1.000000  1.000000  1.000000   \n",
       "2020-05-12  0.945122  0.986252  0.998728  0.955844  0.962838  0.965748   \n",
       "2020-05-13  0.925000  0.998308  0.941476  0.971429  1.029279  0.978625   \n",
       "2020-05-14  0.948171  1.004230  0.944020  1.012987  1.015766  0.961885   \n",
       "2020-05-15  0.915244  0.975042  0.928753  0.958442  0.977477  0.937677   \n",
       "...              ...       ...       ...       ...       ...       ...   \n",
       "2021-05-04  1.579947  0.993077  1.234543  1.997403  1.344595  1.750871   \n",
       "2021-05-05  1.539467  0.998651  1.279646  2.028571  1.362613  1.803345   \n",
       "2021-05-06  1.560320  1.006083  1.240986  2.083117  1.346847  1.752430   \n",
       "2021-05-07  1.611227  1.010960  1.275780  2.176623  1.369369  1.736324   \n",
       "2021-05-10  1.610000  1.019320  1.307997  2.140260  1.345721  1.682291   \n",
       "\n",
       "            WIZS3.SA  YDUQ3.SA  \n",
       "Date                            \n",
       "2020-05-11  1.000000  1.000000  \n",
       "2020-05-12  0.960598  0.955056  \n",
       "2020-05-13  0.963315  0.921348  \n",
       "2020-05-14  0.986413  0.934522  \n",
       "2020-05-15  0.970109  0.922511  \n",
       "...              ...       ...  \n",
       "2021-05-04  1.679215  1.132474  \n",
       "2021-05-05  1.648551  1.144283  \n",
       "2021-05-06  1.645631  1.117516  \n",
       "2021-05-07  1.668994  1.126176  \n",
       "2021-05-10  1.594525  1.122633  \n",
       "\n",
       "[246 rows x 162 columns]"
      ],
      "text/html": "<div>\n<style scoped>\n    .dataframe tbody tr th:only-of-type {\n        vertical-align: middle;\n    }\n\n    .dataframe tbody tr th {\n        vertical-align: top;\n    }\n\n    .dataframe thead th {\n        text-align: right;\n    }\n</style>\n<table border=\"1\" class=\"dataframe\">\n  <thead>\n    <tr style=\"text-align: right;\">\n      <th></th>\n      <th>AALR3.SA</th>\n      <th>ABCB4.SA</th>\n      <th>ABEV3.SA</th>\n      <th>AGRO3.SA</th>\n      <th>ALPA4.SA</th>\n      <th>ALSO3.SA</th>\n      <th>ALUP11.SA</th>\n      <th>AMAR3.SA</th>\n      <th>ANIM3.SA</th>\n      <th>ARZZ3.SA</th>\n      <th>...</th>\n      <th>USIM5.SA</th>\n      <th>VALE3.SA</th>\n      <th>VIVA3.SA</th>\n      <th>VIVT3.SA</th>\n      <th>VLID3.SA</th>\n      <th>VULC3.SA</th>\n      <th>VVAR3.SA</th>\n      <th>WEGE3.SA</th>\n      <th>WIZS3.SA</th>\n      <th>YDUQ3.SA</th>\n    </tr>\n    <tr>\n      <th>Date</th>\n      <th></th>\n      <th></th>\n      <th></th>\n      <th></th>\n      <th></th>\n      <th></th>\n      <th></th>\n      <th></th>\n      <th></th>\n      <th></th>\n      <th></th>\n      <th></th>\n      <th></th>\n      <th></th>\n      <th></th>\n      <th></th>\n      <th></th>\n      <th></th>\n      <th></th>\n      <th></th>\n      <th></th>\n    </tr>\n  </thead>\n  <tbody>\n    <tr>\n      <td>2020-05-11</td>\n      <td>1.000000</td>\n      <td>1.000000</td>\n      <td>1.000000</td>\n      <td>1.000000</td>\n      <td>1.000000</td>\n      <td>1.000000</td>\n      <td>1.000000</td>\n      <td>1.000000</td>\n      <td>1.000000</td>\n      <td>1.000000</td>\n      <td>...</td>\n      <td>1.000000</td>\n      <td>1.000000</td>\n      <td>1.000000</td>\n      <td>1.000000</td>\n      <td>1.000000</td>\n      <td>1.000000</td>\n      <td>1.000000</td>\n      <td>1.000000</td>\n      <td>1.000000</td>\n      <td>1.000000</td>\n    </tr>\n    <tr>\n      <td>2020-05-12</td>\n      <td>0.969977</td>\n      <td>0.979424</td>\n      <td>0.981575</td>\n      <td>0.987440</td>\n      <td>1.050485</td>\n      <td>0.997722</td>\n      <td>0.997285</td>\n      <td>0.921642</td>\n      <td>0.953742</td>\n      <td>0.956265</td>\n      <td>...</td>\n      <td>0.964286</td>\n      <td>0.994343</td>\n      <td>0.945122</td>\n      <td>0.986252</td>\n      <td>0.998728</td>\n      <td>0.955844</td>\n      <td>0.962838</td>\n      <td>0.965748</td>\n      <td>0.960598</td>\n      <td>0.955056</td>\n    </tr>\n    <tr>\n      <td>2020-05-13</td>\n      <td>0.968822</td>\n      <td>0.987654</td>\n      <td>0.943049</td>\n      <td>0.971014</td>\n      <td>0.972132</td>\n      <td>1.002733</td>\n      <td>1.011765</td>\n      <td>0.854478</td>\n      <td>0.927755</td>\n      <td>0.931206</td>\n      <td>...</td>\n      <td>0.913866</td>\n      <td>1.016970</td>\n      <td>0.925000</td>\n      <td>0.998308</td>\n      <td>0.941476</td>\n      <td>0.971429</td>\n      <td>1.029279</td>\n      <td>0.978625</td>\n      <td>0.963315</td>\n      <td>0.921348</td>\n    </tr>\n    <tr>\n      <td>2020-05-14</td>\n      <td>0.974596</td>\n      <td>0.969547</td>\n      <td>0.983250</td>\n      <td>0.967633</td>\n      <td>0.952746</td>\n      <td>1.019590</td>\n      <td>1.018552</td>\n      <td>0.910448</td>\n      <td>0.951143</td>\n      <td>0.906147</td>\n      <td>...</td>\n      <td>0.955882</td>\n      <td>1.007542</td>\n      <td>0.948171</td>\n      <td>1.004230</td>\n      <td>0.944020</td>\n      <td>1.012987</td>\n      <td>1.015766</td>\n      <td>0.961885</td>\n      <td>0.986413</td>\n      <td>0.934522</td>\n    </tr>\n    <tr>\n      <td>2020-05-15</td>\n      <td>1.004619</td>\n      <td>0.962140</td>\n      <td>0.974875</td>\n      <td>0.988406</td>\n      <td>0.894588</td>\n      <td>0.969476</td>\n      <td>1.029412</td>\n      <td>0.893657</td>\n      <td>0.982329</td>\n      <td>0.916076</td>\n      <td>...</td>\n      <td>0.947479</td>\n      <td>1.006704</td>\n      <td>0.915244</td>\n      <td>0.975042</td>\n      <td>0.928753</td>\n      <td>0.958442</td>\n      <td>0.977477</td>\n      <td>0.937677</td>\n      <td>0.970109</td>\n      <td>0.922511</td>\n    </tr>\n    <tr>\n      <td>...</td>\n      <td>...</td>\n      <td>...</td>\n      <td>...</td>\n      <td>...</td>\n      <td>...</td>\n      <td>...</td>\n      <td>...</td>\n      <td>...</td>\n      <td>...</td>\n      <td>...</td>\n      <td>...</td>\n      <td>...</td>\n      <td>...</td>\n      <td>...</td>\n      <td>...</td>\n      <td>...</td>\n      <td>...</td>\n      <td>...</td>\n      <td>...</td>\n      <td>...</td>\n      <td>...</td>\n    </tr>\n    <tr>\n      <td>2021-05-04</td>\n      <td>1.043880</td>\n      <td>1.286166</td>\n      <td>1.264549</td>\n      <td>1.708975</td>\n      <td>1.825121</td>\n      <td>1.207869</td>\n      <td>1.246170</td>\n      <td>0.996269</td>\n      <td>1.699584</td>\n      <td>1.812787</td>\n      <td>...</td>\n      <td>4.631700</td>\n      <td>2.511414</td>\n      <td>1.579947</td>\n      <td>0.993077</td>\n      <td>1.234543</td>\n      <td>1.997403</td>\n      <td>1.344595</td>\n      <td>1.750871</td>\n      <td>1.679215</td>\n      <td>1.132474</td>\n    </tr>\n    <tr>\n      <td>2021-05-05</td>\n      <td>1.054273</td>\n      <td>1.287906</td>\n      <td>1.283551</td>\n      <td>1.802781</td>\n      <td>1.909128</td>\n      <td>1.224868</td>\n      <td>1.261122</td>\n      <td>1.063433</td>\n      <td>1.761954</td>\n      <td>1.895078</td>\n      <td>...</td>\n      <td>4.838774</td>\n      <td>2.525328</td>\n      <td>1.539467</td>\n      <td>0.998651</td>\n      <td>1.279646</td>\n      <td>2.028571</td>\n      <td>1.362613</td>\n      <td>1.803345</td>\n      <td>1.648551</td>\n      <td>1.144283</td>\n    </tr>\n    <tr>\n      <td>2021-05-06</td>\n      <td>1.028868</td>\n      <td>1.290517</td>\n      <td>1.397568</td>\n      <td>1.754880</td>\n      <td>1.882876</td>\n      <td>1.245543</td>\n      <td>1.257384</td>\n      <td>1.059701</td>\n      <td>1.758836</td>\n      <td>1.908197</td>\n      <td>...</td>\n      <td>4.980345</td>\n      <td>2.624325</td>\n      <td>1.560320</td>\n      <td>1.006083</td>\n      <td>1.240986</td>\n      <td>2.083117</td>\n      <td>1.346847</td>\n      <td>1.752430</td>\n      <td>1.645631</td>\n      <td>1.117516</td>\n    </tr>\n    <tr>\n      <td>2021-05-07</td>\n      <td>1.031178</td>\n      <td>1.287906</td>\n      <td>1.400159</td>\n      <td>1.741408</td>\n      <td>1.895800</td>\n      <td>1.287352</td>\n      <td>1.263458</td>\n      <td>1.130597</td>\n      <td>1.825884</td>\n      <td>1.934196</td>\n      <td>...</td>\n      <td>4.889486</td>\n      <td>2.628887</td>\n      <td>1.611227</td>\n      <td>1.010960</td>\n      <td>1.275780</td>\n      <td>2.176623</td>\n      <td>1.369369</td>\n      <td>1.736324</td>\n      <td>1.668994</td>\n      <td>1.126176</td>\n    </tr>\n    <tr>\n      <td>2021-05-10</td>\n      <td>1.033487</td>\n      <td>1.295738</td>\n      <td>1.435574</td>\n      <td>1.705482</td>\n      <td>1.842488</td>\n      <td>1.300217</td>\n      <td>1.245235</td>\n      <td>1.125000</td>\n      <td>1.780665</td>\n      <td>1.945645</td>\n      <td>...</td>\n      <td>4.990910</td>\n      <td>2.652610</td>\n      <td>1.610000</td>\n      <td>1.019320</td>\n      <td>1.307997</td>\n      <td>2.140260</td>\n      <td>1.345721</td>\n      <td>1.682291</td>\n      <td>1.594525</td>\n      <td>1.122633</td>\n    </tr>\n  </tbody>\n</table>\n<p>246 rows × 162 columns</p>\n</div>"
     },
     "metadata": {},
     "execution_count": 35
    }
   ],
   "source": [
    "# fazendo a parte 2:\n",
    "retorno = dados_yahoo.pct_change()\n",
    "retorno_acumulado = (1 + retorno).cumprod()\n",
    "retorno_acumulado.iloc[0] = 1\n",
    "retorno_acumulado"
   ]
  },
  {
   "cell_type": "code",
   "execution_count": 36,
   "metadata": {},
   "outputs": [
    {
     "output_type": "execute_result",
     "data": {
      "text/plain": [
       "['BTOW3.SA',\n",
       " 'AMAR3.SA',\n",
       " 'LREN3.SA',\n",
       " 'FLRY3.SA',\n",
       " 'BRPR3.SA',\n",
       " 'MTRE3.SA',\n",
       " 'VLID3.SA',\n",
       " 'BTOW3.SA',\n",
       " 'ITSA4.SA',\n",
       " 'ITUB3.SA']"
      ]
     },
     "metadata": {},
     "execution_count": 36
    }
   ],
   "source": [
    "# fazendo a parte 3:\n",
    "numero_de_acoes = 10\n",
    "carteira = random.choices(dados_yahoo.columns, k=numero_de_acoes)\n",
    "carteira"
   ]
  },
  {
   "source": [
    "### Montando várias carteiras aleatórias:"
   ],
   "cell_type": "markdown",
   "metadata": {}
  },
  {
   "cell_type": "code",
   "execution_count": 39,
   "metadata": {},
   "outputs": [
    {
     "output_type": "stream",
     "name": "stdout",
     "text": [
      "['GRND3.SA', 'MGLU3.SA', 'TCSA3.SA', 'ITUB4.SA', 'JHSF3.SA', 'ARZZ3.SA', 'CPLE6.SA', 'ABCB4.SA', 'POSI3.SA', 'BRDT3.SA']\n['SAPR4.SA', 'TOTS3.SA', 'BPAC11.SA', 'SEER3.SA', 'NTCO3.SA', 'GOAU4.SA', 'VLID3.SA', 'RAIL3.SA', 'UNIP6.SA', 'VULC3.SA']\n['BRKM5.SA', 'VVAR3.SA', 'BRKM5.SA', 'PTBL3.SA', 'GOLL4.SA', 'SBFG3.SA', 'CPLE3.SA', 'SBFG3.SA', 'MGLU3.SA', 'AGRO3.SA']\n['SLCE3.SA', 'MRVE3.SA', 'BKBR3.SA', 'PNVL3.SA', 'YDUQ3.SA', 'CRFB3.SA', 'ALUP11.SA', 'ELET3.SA', 'AGRO3.SA', 'VIVA3.SA']\n['SMLS3.SA', 'MEAL3.SA', 'DIRR3.SA', 'CPLE6.SA', 'RAIL3.SA', 'LAME4.SA', 'COGN3.SA', 'ECOR3.SA', 'POSI3.SA', 'WEGE3.SA']\n"
     ]
    }
   ],
   "source": [
    "for x in np.arange(5):\n",
    "    numero_de_acoes = 10\n",
    "    carteira = random.choices(dados_yahoo.columns, k=numero_de_acoes)\n",
    "    print(carteira)"
   ]
  },
  {
   "cell_type": "code",
   "execution_count": null,
   "metadata": {},
   "outputs": [],
   "source": []
  }
 ],
 "metadata": {
  "kernelspec": {
   "name": "python374jvsc74a57bd0be8971a3a946e1d8aad7367212283399e75af9b51513b0af380fc3ec7c5712f5",
   "display_name": "Python 3.7.4 64-bit ('base': conda)"
  },
  "language_info": {
   "codemirror_mode": {
    "name": "ipython",
    "version": 3
   },
   "file_extension": ".py",
   "mimetype": "text/x-python",
   "name": "python",
   "nbconvert_exporter": "python",
   "pygments_lexer": "ipython3",
   "version": "3.7.4"
  }
 },
 "nbformat": 4,
 "nbformat_minor": 2
}